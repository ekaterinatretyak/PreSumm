{
 "cells": [
  {
   "cell_type": "code",
   "execution_count": 1,
   "metadata": {},
   "outputs": [],
   "source": [
    "from transformers import BertTokenizer\n",
    "from razdel import sentenize\n",
    "import torch\n",
    "from torch import nn\n",
    "import numpy as np\n",
    "import pandas as pd\n",
    "import tqdm\n",
    "import json\n",
    "import pickle\n",
    "import os\n",
    "import io\n",
    "import matplotlib.pyplot as plt"
   ]
  },
  {
   "cell_type": "code",
   "execution_count": 2,
   "metadata": {},
   "outputs": [],
   "source": [
    "import neptune\n",
    "import telebot"
   ]
  },
  {
   "cell_type": "code",
   "execution_count": 3,
   "metadata": {},
   "outputs": [
    {
     "data": {
      "text/plain": [
       "Project(leshanbog/small-encoder-clustering)"
      ]
     },
     "execution_count": 3,
     "metadata": {},
     "output_type": "execute_result"
    }
   ],
   "source": [
    "neptune.init(\n",
    "    project_qualified_name='leshanbog/small-encoder-clustering',\n",
    "    api_token='=', \n",
    ")\n"
   ]
  },
  {
   "cell_type": "code",
   "execution_count": 4,
   "metadata": {},
   "outputs": [],
   "source": [
    "DEVICE = 'cuda:5'\n",
    "MAX_LEN = 200\n",
    "UNK, PAD = \"UNK\", \"PAD\""
   ]
  },
  {
   "cell_type": "markdown",
   "metadata": {},
   "source": [
    "## Dataset"
   ]
  },
  {
   "cell_type": "code",
   "execution_count": 5,
   "metadata": {},
   "outputs": [],
   "source": [
    "from torch.utils.data import Dataset, DataLoader"
   ]
  },
  {
   "cell_type": "code",
   "execution_count": 6,
   "metadata": {},
   "outputs": [],
   "source": [
    "class TelegramRegressionReader(Dataset):\n",
    "    def __init__(self, txt_path, vec_path, chunk_size=2048):\n",
    "        self.txt_path = txt_path\n",
    "        self.vec_path = vec_path\n",
    "\n",
    "        self.shift = 3200 # numpy load reads 3200 bytes from file handler which is equal one vector\n",
    "        \n",
    "        self.chunk_size = chunk_size\n",
    "        \n",
    "        self.size = sum(\n",
    "            len(el) for el in pd.read_json(\n",
    "                self.txt_path,\n",
    "                encoding='utf-8',\n",
    "                lines=True,\n",
    "                chunksize=chunk_size)\n",
    "        )\n",
    "        \n",
    "        s = [0]\n",
    "        with open(txt_path, 'r', encoding='utf-8') as f:\n",
    "            self.txt_linelocs = [s.append(s[0]+len(n)+1) or s.pop(0) for n in f]\n",
    "            \n",
    "    def __len__(self):\n",
    "        return self.size\n",
    "\n",
    "    def __getitem__(self, idx):\n",
    "        with open(self.txt_path, 'r', encoding='utf-8') as f_txt,\\\n",
    "             open(self.vec_path, 'rb') as f_vec:\n",
    "            f_txt.seek(self.txt_linelocs[idx], 0)\n",
    "            txt = f_txt.readline()\n",
    "\n",
    "            f_vec.seek(self.shift * idx, 0)\n",
    "            vec = np.load(f_vec).reshape(1, -1)\n",
    "            \n",
    "            return {'text': txt, 'vector': vec}"
   ]
  },
  {
   "cell_type": "code",
   "execution_count": 7,
   "metadata": {},
   "outputs": [],
   "source": [
    "train = TelegramRegressionReader('/data/alolbuhtijarov/datasets/BertSumAbs_predictions/split/train_texts.jsonl',\n",
    "                                '/data/alolbuhtijarov/datasets/BertSumAbs_predictions/split/train_vec.npy')\n",
    "\n",
    "test = TelegramRegressionReader('/data/alolbuhtijarov/datasets/BertSumAbs_predictions/split/test_texts.jsonl',\n",
    "                                '/data/alolbuhtijarov/datasets/BertSumAbs_predictions/split/test_vec.npy')\n",
    "\n",
    "val = TelegramRegressionReader('/data/alolbuhtijarov/datasets/BertSumAbs_predictions/split/val_texts.jsonl',\n",
    "                              '/data/alolbuhtijarov/datasets/BertSumAbs_predictions/split/val_vec.npy')"
   ]
  },
  {
   "cell_type": "code",
   "execution_count": 8,
   "metadata": {},
   "outputs": [
    {
     "data": {
      "text/plain": [
       "(456939, 14231, 9813)"
      ]
     },
     "execution_count": 8,
     "metadata": {},
     "output_type": "execute_result"
    }
   ],
   "source": [
    "len(train), len(val), len(test)"
   ]
  },
  {
   "cell_type": "code",
   "execution_count": 9,
   "metadata": {},
   "outputs": [],
   "source": [
    "BATCH_SIZE = 256\n",
    "\n",
    "train_loader = DataLoader(train, batch_size=BATCH_SIZE, shuffle=True, num_workers=16, pin_memory=True)\n",
    "val_loader = DataLoader(val, batch_size=512, num_workers=8, pin_memory=True)\n",
    "test_loader = DataLoader(test, batch_size=512, num_workers=8, pin_memory=True)"
   ]
  },
  {
   "cell_type": "markdown",
   "metadata": {},
   "source": [
    "## Vocabulary"
   ]
  },
  {
   "cell_type": "code",
   "execution_count": 10,
   "metadata": {},
   "outputs": [],
   "source": [
    "from collections import Counter\n",
    "from nltk.tokenize import wordpunct_tokenize"
   ]
  },
  {
   "cell_type": "code",
   "execution_count": 11,
   "metadata": {},
   "outputs": [],
   "source": [
    "def dict_to_raw_txt(txt_dict):\n",
    "    return txt_dict['text'] + ' ' + txt_dict['title']\n",
    "\n",
    "def dict_to_token_list(txt_dict):\n",
    "    return wordpunct_tokenize(dict_to_raw_txt(txt_dict).replace('\\xa0', ' ').lower().strip())\n",
    "\n",
    "def sample_to_token_list(sample):\n",
    "    return dict_to_token_list(json.loads(sample['text']))"
   ]
  },
  {
   "cell_type": "markdown",
   "metadata": {},
   "source": [
    "### Using word vocabulary"
   ]
  },
  {
   "cell_type": "code",
   "execution_count": null,
   "metadata": {},
   "outputs": [
    {
     "name": "stderr",
     "output_type": "stream",
     "text": [
      " 16%|█▌        | 74252/456939 [01:09<06:24, 995.30it/s] "
     ]
    }
   ],
   "source": [
    "cnt = Counter()\n",
    "for i in tqdm.trange(len(train)):\n",
    "    cnt.update(sample_to_token_list(train[i]))"
   ]
  },
  {
   "cell_type": "code",
   "execution_count": null,
   "metadata": {},
   "outputs": [],
   "source": [
    "len(cnt)"
   ]
  },
  {
   "cell_type": "code",
   "execution_count": null,
   "metadata": {},
   "outputs": [],
   "source": [
    "tokens = [UNK, PAD] + [el[0] for el in cnt.most_common(50000)]\n",
    "token_to_id = {t: i for i, t in enumerate(tokens)}"
   ]
  },
  {
   "cell_type": "markdown",
   "metadata": {},
   "source": [
    "### Using subword vocabulary"
   ]
  },
  {
   "cell_type": "code",
   "execution_count": 12,
   "metadata": {},
   "outputs": [],
   "source": [
    "from subword_nmt.apply_bpe import BPE\n",
    "\n",
    "bpe_rules_path = '/data/alolbuhtijarov/datasets/BertSumAbs_predictions/bpe_rules'\n",
    "\n",
    "bpe = BPE(open(bpe_rules_path))"
   ]
  },
  {
   "cell_type": "code",
   "execution_count": 13,
   "metadata": {},
   "outputs": [
    {
     "name": "stderr",
     "output_type": "stream",
     "text": [
      "100%|██████████| 456939/456939 [08:08<00:00, 935.72it/s] \n"
     ]
    }
   ],
   "source": [
    "tokens = set()\n",
    "\n",
    "for i in tqdm.trange(len(train)):\n",
    "    token_list = sample_to_token_list(train[i])\n",
    "    tokens.update(bpe.segment_tokens(token_list))"
   ]
  },
  {
   "cell_type": "code",
   "execution_count": 14,
   "metadata": {},
   "outputs": [],
   "source": [
    "tokens = list(tokens)"
   ]
  },
  {
   "cell_type": "code",
   "execution_count": 15,
   "metadata": {},
   "outputs": [],
   "source": [
    "tokens = [UNK, PAD] + list(tokens)\n",
    "token_to_id = {t: i for i, t in enumerate(tokens)}"
   ]
  },
  {
   "cell_type": "code",
   "execution_count": 16,
   "metadata": {},
   "outputs": [
    {
     "data": {
      "text/plain": [
       "51259"
      ]
     },
     "execution_count": 16,
     "metadata": {},
     "output_type": "execute_result"
    }
   ],
   "source": [
    "len(tokens)"
   ]
  },
  {
   "cell_type": "markdown",
   "metadata": {},
   "source": [
    "### Encoder with pretrained FastText embeddings"
   ]
  },
  {
   "cell_type": "code",
   "execution_count": 17,
   "metadata": {},
   "outputs": [],
   "source": [
    "import fasttext"
   ]
  },
  {
   "cell_type": "code",
   "execution_count": 18,
   "metadata": {},
   "outputs": [
    {
     "name": "stderr",
     "output_type": "stream",
     "text": [
      "Warning : `load_model` does not return WordVectorModel or SupervisedModel any more, but a `FastText` object which is very similar.\n"
     ]
    }
   ],
   "source": [
    "ft = fasttext.load_model('/data/alolbuhtijarov/fasttext_pretrained/cc.ru.300.bin')"
   ]
  },
  {
   "cell_type": "code",
   "execution_count": 19,
   "metadata": {},
   "outputs": [],
   "source": [
    "def remove_separator_symbol_for_subword(w):\n",
    "    if w.endswith('@@'):\n",
    "        return w[:-2]\n",
    "    return w"
   ]
  },
  {
   "cell_type": "code",
   "execution_count": 20,
   "metadata": {},
   "outputs": [
    {
     "data": {
      "text/plain": [
       "torch.Size([51259, 300])"
      ]
     },
     "execution_count": 20,
     "metadata": {},
     "output_type": "execute_result"
    }
   ],
   "source": [
    "vocab_token_vectors = torch.FloatTensor([\n",
    "    ft.get_word_vector(remove_separator_symbol_for_subword(w)) for w in tokens\n",
    "])\n",
    "\n",
    "vocab_token_vectors.shape"
   ]
  },
  {
   "cell_type": "code",
   "execution_count": 21,
   "metadata": {},
   "outputs": [],
   "source": [
    "UNK_IX, PAD_IX = map(token_to_id.get, [UNK, PAD])"
   ]
  },
  {
   "cell_type": "code",
   "execution_count": 22,
   "metadata": {},
   "outputs": [],
   "source": [
    "#vocab_token_vectors[UNK_IX] = 0\n",
    "vocab_token_vectors[PAD_IX] = 0"
   ]
  },
  {
   "cell_type": "code",
   "execution_count": 23,
   "metadata": {},
   "outputs": [],
   "source": [
    "# remove 'bpe.segment_tokens' if not subwords\n",
    "\n",
    "tokenize_raw_txt = lambda txt: bpe.segment_tokens(wordpunct_tokenize(txt.replace('\\xa0', ' ').lower().strip()))"
   ]
  },
  {
   "cell_type": "code",
   "execution_count": 24,
   "metadata": {},
   "outputs": [],
   "source": [
    "def json_txt_to_input_inds(json_dict_txt):\n",
    "    tokens = tokenize_raw_txt(dict_to_raw_txt(json.loads(json_dict_txt)))\n",
    "    if len(tokens) < MAX_LEN:\n",
    "        tokens = tokens + [PAD] * (MAX_LEN - len(tokens))\n",
    "\n",
    "    return torch.LongTensor([token_to_id.get(word, UNK_IX) for word in tokens[:MAX_LEN]])"
   ]
  },
  {
   "cell_type": "code",
   "execution_count": 25,
   "metadata": {},
   "outputs": [],
   "source": [
    "def batch_to_torch_x_y(batch):\n",
    "    x = list(map(json_txt_to_input_inds, batch['text']))\n",
    "    x = torch.cat(x).view(-1, MAX_LEN).to(DEVICE)\n",
    "    y = torch.FloatTensor(batch['vector']).squeeze(1).to(DEVICE)\n",
    "    return x, y\n",
    "\n",
    "\n",
    "def raw_txt_to_input_inds(txt):\n",
    "    tokens = tokenize_raw_txt(txt)\n",
    "    if len(tokens) < MAX_LEN:\n",
    "        tokens = tokens + [PAD] * (MAX_LEN - len(tokens))\n",
    "\n",
    "    return torch.LongTensor([token_to_id.get(word, UNK_IX) for word in tokens[:MAX_LEN]])"
   ]
  },
  {
   "cell_type": "code",
   "execution_count": 26,
   "metadata": {},
   "outputs": [],
   "source": [
    "def print_metrics(model, data_loader, batch_size=256, mode='VAL'):\n",
    "    cos_loss_val = 0\n",
    "    mae_loss_val = 0\n",
    "    mse_loss_val = 0\n",
    "    \n",
    "    cos_loss = nn.CosineEmbeddingLoss(reduction='sum')\n",
    "    mae_loss = nn.L1Loss(reduction='sum')\n",
    "    mse_loss = nn.MSELoss(reduction='sum')\n",
    "    \n",
    "    num_samples = 0\n",
    "    \n",
    "    model.eval()\n",
    "    with torch.no_grad():\n",
    "        for batch in data_loader:\n",
    "            x, y = batch_to_torch_x_y(batch)\n",
    "            batch_pred = model(x)\n",
    "            \n",
    "            num_samples += len(y)\n",
    "            \n",
    "            cos_loss_val += cos_loss(batch_pred, y, torch.ones(len(y)).to(DEVICE)).item()\n",
    "            mae_loss_val += mae_loss(batch_pred, y).item()\n",
    "            mse_loss_val += mse_loss(batch_pred, y).item()\n",
    "\n",
    "    print('MSE:', round(mse_loss_val / num_samples, 6))\n",
    "    print('MAE:', round(mae_loss_val / num_samples, 6))\n",
    "    print('COS:', round(cos_loss_val / num_samples, 6))\n",
    "    \n",
    "    neptune.log_metric(mode + ' MSE', mse_loss_val / num_samples)\n",
    "    neptune.log_metric(mode + ' MAE', mae_loss_val / num_samples)\n",
    "    neptune.log_metric(mode + ' COS', cos_loss_val / num_samples)\n",
    "    \n",
    "    return cos_loss_val / num_samples\n",
    "\n",
    "\n",
    "def plot_cos_loss(scores, to_neptune=False):\n",
    "    if to_neptune:\n",
    "        figure, ax = plt.subplots(figsize=(10, 7))\n",
    "        ax.scatter(*zip(*scores['train_all']), alpha=0.09, c='b')\n",
    "        ax.plot(*zip(*scores['train']), c='b', label='Train COS')\n",
    "        ax.plot(*zip(*scores['dev']), c='r', label='Dev COS')\n",
    "        ax.set_ylim(top=0.4); ax.legend(); ax.grid();\n",
    "        neptune.log_image('Train plot', figure)\n",
    "    else:\n",
    "        plt.scatter(*zip(*scores['train_all']), alpha=0.09, c='b')\n",
    "        plt.plot(*zip(*scores['train']), c='b', label='Train COS')\n",
    "        plt.plot(*zip(*scores['dev']), c='r', label='Dev COS')\n",
    "        plt.ylim(top=0.4); plt.legend(); plt.grid(); plt.show()"
   ]
  },
  {
   "cell_type": "code",
   "execution_count": 27,
   "metadata": {},
   "outputs": [],
   "source": [
    "class SmallEncoder(nn.Module):\n",
    "    def __init__(self, n_tokens=len(tokens),\n",
    "                 hid_size=256):\n",
    "        super().__init__()\n",
    "        \n",
    "        self.embed = nn.Embedding.from_pretrained(vocab_token_vectors, freeze=False)\n",
    "        \n",
    "        self.lstm = nn.LSTM(300, hid_size, \n",
    "                            num_layers=1,\n",
    "                            batch_first=True,\n",
    "                            bidirectional=True)\n",
    "        \n",
    "        self.ff = nn.Linear(2 * hid_size, 768)\n",
    "        self.relu = nn.ReLU()\n",
    "        self.drop = nn.Dropout(0.3)\n",
    "        self.predictor = nn.Linear(768, 768)\n",
    "\n",
    "    def forward(self, x):\n",
    "        batch_size = x.shape[0]\n",
    "        x = self.embed(x)\n",
    "        _, (x, _) = self.lstm(x)\n",
    "        x = x.permute((1, 0, 2)).reshape(batch_size, -1)\n",
    "        x = self.ff(x)\n",
    "        x = self.relu(x)\n",
    "        x = self.drop(x)\n",
    "        x = self.predictor(x)\n",
    "        return x"
   ]
  },
  {
   "cell_type": "code",
   "execution_count": 28,
   "metadata": {},
   "outputs": [],
   "source": [
    "from IPython.display import clear_output"
   ]
  },
  {
   "cell_type": "code",
   "execution_count": 29,
   "metadata": {},
   "outputs": [],
   "source": [
    "def train_model(model, train_loader, val_loader, \n",
    "                criterion, optimizer, scores,\n",
    "                epochs=500, early_stopping=True, patience=10):\n",
    "    best_loss_so_far = float('inf')\n",
    "    steps_without_progress = 0\n",
    "    cos_loss = nn.CosineEmbeddingLoss(reduction='mean')\n",
    "    best_state_dict = None\n",
    "    \n",
    "    if 'train' not in scores:\n",
    "        scores['train_all'] = []\n",
    "        scores['dev'] = []\n",
    "        scores['train'] = []\n",
    "    \n",
    "    for epoch in range(epochs):\n",
    "        print(f\"epoch: {epoch + 1}\")\n",
    "        \n",
    "        model.train()\n",
    "        running_mean_cos_loss = None\n",
    "        for i, batch in tqdm.tqdm(enumerate(train_loader), total=len(train_loader)):\n",
    "            x, y = batch_to_torch_x_y(batch)\n",
    "            pred = model(x)\n",
    "\n",
    "            loss = criterion(pred, y, torch.ones(len(y)).to(DEVICE))\n",
    "            optimizer.zero_grad()\n",
    "            loss.backward()\n",
    "            optimizer.step()\n",
    "            \n",
    "            cos_loss_val = cos_loss(pred, y, torch.ones(len(y)).to(DEVICE)).item()\n",
    "            if running_mean_cos_loss is None:\n",
    "                running_mean_cos_loss = cos_loss_val\n",
    "                \n",
    "            running_mean_cos_loss = 0.3 * running_mean_cos_loss + 0.7 * cos_loss_val\n",
    "            \n",
    "            scores['train_all'].append((epoch, cos_loss_val))\n",
    "\n",
    "        \n",
    "        clear_output(True)\n",
    "        scores['train'].append((epoch, running_mean_cos_loss))\n",
    "        loss_val = print_metrics(model, val_loader)\n",
    "        neptune.log_metric('Train COS', running_mean_cos_loss)\n",
    "        scores['dev'].append((epoch, loss_val))\n",
    "        \n",
    "        # plotting\n",
    "        plot_cos_loss(scores)\n",
    "\n",
    "        # early stopping handling\n",
    "        if early_stopping:\n",
    "            if loss_val < best_loss_so_far:\n",
    "                best_loss_so_far = loss_val\n",
    "                steps_without_progress = 0\n",
    "                best_state_dict = model.state_dict()\n",
    "            else:\n",
    "                steps_without_progress += 1\n",
    "\n",
    "            if steps_without_progress == patience:\n",
    "                print(f'No progress for {steps_without_progress} iterations! Early stopping...')\n",
    "                break\n",
    "\n",
    "    if early_stopping:\n",
    "        model.load_state_dict(best_state_dict)\n",
    "    return model"
   ]
  },
  {
   "cell_type": "code",
   "execution_count": 30,
   "metadata": {},
   "outputs": [],
   "source": [
    "PARAMS = {\n",
    "    'lr': 5e-4,\n",
    "    'max_len': MAX_LEN,\n",
    "    'batch size': BATCH_SIZE,\n",
    "    'preprocess': '51259 subword tokens; embed init with cc.ru.300.bin'\n",
    "}"
   ]
  },
  {
   "cell_type": "code",
   "execution_count": 31,
   "metadata": {},
   "outputs": [
    {
     "name": "stderr",
     "output_type": "stream",
     "text": [
      "psutil is not installed. You will not be able to abort this experiment from the UI.\n",
      "psutil is not installed. Hardware metrics will not be collected.\n"
     ]
    },
    {
     "name": "stdout",
     "output_type": "stream",
     "text": [
      "https://ui.neptune.ai/leshanbog/small-encoder-clustering/e/SMAL-11\n"
     ]
    },
    {
     "data": {
      "text/plain": [
       "Experiment(SMAL-11)"
      ]
     },
     "execution_count": 31,
     "metadata": {},
     "output_type": "execute_result"
    }
   ],
   "source": [
    "neptune.create_experiment(description='''\n",
    "class SmallEncoder(nn.Module):\n",
    "    def __init__(self, n_tokens=len(tokens),\n",
    "                 hid_size=256):\n",
    "        super().__init__()\n",
    "        \n",
    "        self.embed = nn.Embedding.from_pretrained(vocab_token_vectors, freeze=False)\n",
    "        \n",
    "        self.lstm = nn.LSTM(300, hid_size, \n",
    "                            num_layers=1,\n",
    "                            batch_first=True,\n",
    "                            bidirectional=True)\n",
    "        \n",
    "        self.ff = nn.Linear(2 * hid_size, 768)\n",
    "        self.relu = nn.ReLU()\n",
    "        self.drop = nn.Dropout(0.3)\n",
    "        self.predictor = nn.Linear(768, 768)\n",
    "\n",
    "    def forward(self, x):\n",
    "        batch_size = x.shape[0]\n",
    "        x = self.embed(x)\n",
    "        _, (x, _) = self.lstm(x)\n",
    "        x = x.permute((1, 0, 2)).reshape(batch_size, -1)\n",
    "        x = self.ff(x)\n",
    "        x = self.relu(x)\n",
    "        x = self.drop(x)\n",
    "        x = self.predictor(x)\n",
    "        return x\n",
    "'''\n",
    ", params=PARAMS)"
   ]
  },
  {
   "cell_type": "code",
   "execution_count": 32,
   "metadata": {},
   "outputs": [],
   "source": [
    "model = SmallEncoder().to(DEVICE)\n",
    "criterion = nn.CosineEmbeddingLoss(reduction='mean')\n",
    "optimizer = torch.optim.Adam(model.parameters(), lr=PARAMS['lr'])\n",
    "scores = dict()"
   ]
  },
  {
   "cell_type": "code",
   "execution_count": 33,
   "metadata": {},
   "outputs": [
    {
     "name": "stdout",
     "output_type": "stream",
     "text": [
      "MSE: 1491.656942\n",
      "MAE: 816.258145\n",
      "COS: 0.130487\n"
     ]
    },
    {
     "data": {
      "image/png": "[encoded data removed]",
      "text/plain": [
       "<Figure size 432x288 with 1 Axes>"
      ]
     },
     "metadata": {
      "needs_background": "light"
     },
     "output_type": "display_data"
    },
    {
     "name": "stdout",
     "output_type": "stream",
     "text": [
      "epoch: 51\n"
     ]
    },
    {
     "name": "stderr",
     "output_type": "stream",
     "text": [
      " 29%|██▊       | 512/1785 [02:17<05:36,  3.79it/s]IOPub message rate exceeded.\n",
      "The notebook server will temporarily stop sending output\n",
      "to the client in order to avoid crashing it.\n",
      "To change this limit, set the config variable\n",
      "`--NotebookApp.iopub_msg_rate_limit`.\n",
      "\n",
      "Current values:\n",
      "NotebookApp.iopub_msg_rate_limit=1000.0 (msgs/sec)\n",
      "NotebookApp.rate_limit_window=3.0 (secs)\n",
      "\n"
     ]
    }
   ],
   "source": [
    "%%time\n",
    "\n",
    "model = train_model(model, train_loader, val_loader, criterion, optimizer, scores)"
   ]
  },
  {
   "cell_type": "code",
   "execution_count": 34,
   "metadata": {},
   "outputs": [
    {
     "name": "stdout",
     "output_type": "stream",
     "text": [
      "MSE: 1546.711749\n",
      "MAE: 831.471248\n",
      "COS: 0.129091\n"
     ]
    }
   ],
   "source": [
    "print_metrics(model, test_loader, mode='TEST');"
   ]
  },
  {
   "cell_type": "code",
   "execution_count": 35,
   "metadata": {},
   "outputs": [
    {
     "data": {
      "image/png": "[encoded data removed]",
      "text/plain": [
       "<Figure size 720x504 with 1 Axes>"
      ]
     },
     "metadata": {
      "needs_background": "light"
     },
     "output_type": "display_data"
    }
   ],
   "source": [
    "plot_cos_loss(scores, to_neptune=True)"
   ]
  },
  {
   "cell_type": "code",
   "execution_count": 36,
   "metadata": {},
   "outputs": [],
   "source": [
    "from evaluation.evaluate_clustering import eval_clustering"
   ]
  },
  {
   "cell_type": "code",
   "execution_count": 37,
   "metadata": {},
   "outputs": [],
   "source": [
    "# import importlib\n",
    "# import evaluation.evaluate_clustering\n",
    "# importlib.reload(evaluation.evaluate_clustering)"
   ]
  },
  {
   "cell_type": "code",
   "execution_count": 38,
   "metadata": {},
   "outputs": [
    {
     "data": {
      "text/plain": [
       "SmallEncoder(\n",
       "  (embed): Embedding(51259, 300)\n",
       "  (lstm): LSTM(300, 256, batch_first=True, bidirectional=True)\n",
       "  (ff): Linear(in_features=512, out_features=768, bias=True)\n",
       "  (relu): ReLU()\n",
       "  (drop): Dropout(p=0.3, inplace=False)\n",
       "  (predictor): Linear(in_features=768, out_features=768, bias=True)\n",
       ")"
      ]
     },
     "execution_count": 38,
     "metadata": {},
     "output_type": "execute_result"
    }
   ],
   "source": [
    "model.eval()"
   ]
  },
  {
   "cell_type": "code",
   "execution_count": 39,
   "metadata": {},
   "outputs": [],
   "source": [
    "def txt_to_vec(txt):\n",
    "    with torch.no_grad():\n",
    "        vec = model(raw_txt_to_input_inds(txt).to(DEVICE).unsqueeze(0))\n",
    "    \n",
    "    return vec.cpu().numpy().flatten()"
   ]
  },
  {
   "cell_type": "code",
   "execution_count": 40,
   "metadata": {
    "scrolled": true
   },
   "outputs": [
    {
     "name": "stderr",
     "output_type": "stream",
     "text": [
      "10730it [01:05, 163.41it/s]\n",
      "18it [09:01, 29.48s/it]                        /home/alolbuhtijarov/PreSumm/env_sum/lib/python3.6/site-packages/sklearn/metrics/_classification.py:1221: UndefinedMetricWarning: Precision and F-score are ill-defined and being set to 0.0 in labels with no predicted samples. Use `zero_division` parameter to control this behavior.\n",
      "  _warn_prf(average, modifier, msg_start, len(result))\n",
      "19it [09:33, 30.11s/it]/home/alolbuhtijarov/PreSumm/env_sum/lib/python3.6/site-packages/sklearn/metrics/_classification.py:1221: UndefinedMetricWarning: Precision and F-score are ill-defined and being set to 0.0 in labels with no predicted samples. Use `zero_division` parameter to control this behavior.\n",
      "  _warn_prf(average, modifier, msg_start, len(result))\n",
      "20it [10:01, 30.08s/it]\n",
      "100%|██████████| 11/11 [04:52<00:00, 26.56s/it]\n"
     ]
    },
    {
     "name": "stdout",
     "output_type": "stream",
     "text": [
      "Best distance = 0.15943940239955193\n",
      "              precision    recall  f1-score   support\n",
      "\n",
      "           0       0.91      0.93      0.92      1571\n",
      "           1       0.90      0.87      0.89      1130\n",
      "\n",
      "    accuracy                           0.91      2701\n",
      "   macro avg       0.91      0.90      0.90      2701\n",
      "weighted avg       0.91      0.91      0.91      2701\n",
      "\n"
     ]
    }
   ],
   "source": [
    "y_true, y_pred = eval_clustering(txt_to_vec)"
   ]
  },
  {
   "cell_type": "code",
   "execution_count": 41,
   "metadata": {},
   "outputs": [],
   "source": [
    "from neptunecontrib.monitoring.metrics import log_confusion_matrix"
   ]
  },
  {
   "cell_type": "code",
   "execution_count": 42,
   "metadata": {},
   "outputs": [],
   "source": [
    "log_confusion_matrix(np.array(y_true), np.array(y_pred))"
   ]
  },
  {
   "cell_type": "code",
   "execution_count": 43,
   "metadata": {},
   "outputs": [
    {
     "data": {
      "text/plain": [
       "<telebot.types.Message at 0x7f915e66b2e8>"
      ]
     },
     "execution_count": 43,
     "metadata": {},
     "output_type": "execute_result"
    }
   ],
   "source": [
    "bot = telebot.TeleBot('')\n",
    "bot.send_message(420146011, 'READYYYY')"
   ]
  },
  {
   "cell_type": "code",
   "execution_count": 44,
   "metadata": {},
   "outputs": [],
   "source": [
    "from sklearn.metrics import classification_report"
   ]
  },
  {
   "cell_type": "code",
   "execution_count": 45,
   "metadata": {},
   "outputs": [],
   "source": [
    "score = classification_report(y_true, y_pred, output_dict=True)"
   ]
  },
  {
   "cell_type": "code",
   "execution_count": 46,
   "metadata": {},
   "outputs": [],
   "source": [
    "neptune.log_metric('0 precision', score['0']['precision'])\n",
    "neptune.log_metric('0 recall', score['0']['recall'])\n",
    "neptune.log_metric('0 f1', score['0']['f1-score'])"
   ]
  },
  {
   "cell_type": "code",
   "execution_count": 47,
   "metadata": {},
   "outputs": [],
   "source": [
    "neptune.log_metric('1 precision', score['1']['precision'])\n",
    "neptune.log_metric('1 recall', score['1']['recall'])\n",
    "neptune.log_metric('1 f1', score['1']['f1-score'])"
   ]
  },
  {
   "cell_type": "code",
   "execution_count": 48,
   "metadata": {},
   "outputs": [],
   "source": [
    "neptune.log_metric('weighted avg precision', score['weighted avg']['precision'])\n",
    "neptune.log_metric('weighted avg recall', score['weighted avg']['recall'])\n",
    "neptune.log_metric('weighted avg f1', score['weighted avg']['f1-score'])"
   ]
  },
  {
   "cell_type": "code",
   "execution_count": 49,
   "metadata": {},
   "outputs": [],
   "source": [
    "neptune.log_metric('macro avg precision', score['macro avg']['precision'])\n",
    "neptune.log_metric('macro avg recall', score['macro avg']['recall'])\n",
    "neptune.log_metric('macro avg f1', score['macro avg']['f1-score'])"
   ]
  },
  {
   "cell_type": "code",
   "execution_count": 50,
   "metadata": {},
   "outputs": [],
   "source": [
    "neptune.log_metric('Accuracy', score['accuracy'])"
   ]
  },
  {
   "cell_type": "code",
   "execution_count": 51,
   "metadata": {},
   "outputs": [],
   "source": [
    "neptune.stop()"
   ]
  },
  {
   "cell_type": "markdown",
   "metadata": {},
   "source": [
    "#### stuff"
   ]
  },
  {
   "cell_type": "markdown",
   "metadata": {},
   "source": [
    "https://pytorch.org/docs/stable/optim.html#per-parameter-options"
   ]
  },
  {
   "cell_type": "code",
   "execution_count": null,
   "metadata": {},
   "outputs": [],
   "source": [
    "def separate_optimizer(net):\n",
    "    embed_param = [kv[1] for kv in net.named_parameters() if kv[0] == 'embed.weight']\n",
    "    model_params = [kv[1] for kv in net.named_parameters() if kv[0] != 'embed.weight']\n",
    "    opt = torch.optim.Adam([\n",
    "                {'params': model_params},\n",
    "                {'params': embed_param, 'lr': 3e-4}\n",
    "    ], lr=3e-3)\n",
    "    return opt"
   ]
  },
  {
   "cell_type": "code",
   "execution_count": null,
   "metadata": {},
   "outputs": [],
   "source": [
    "2+2"
   ]
  },
  {
   "cell_type": "code",
   "execution_count": null,
   "metadata": {},
   "outputs": [],
   "source": []
  }
 ],
 "metadata": {
  "kernelspec": {
   "display_name": "env_sum",
   "language": "python",
   "name": "env_sum"
  },
  "language_info": {
   "codemirror_mode": {
    "name": "ipython",
    "version": 3
   },
   "file_extension": ".py",
   "mimetype": "text/x-python",
   "name": "python",
   "nbconvert_exporter": "python",
   "pygments_lexer": "ipython3",
   "version": "3.6.9"
  }
 },
 "nbformat": 4,
 "nbformat_minor": 4
}
