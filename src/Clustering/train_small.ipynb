{
 "cells": [
  {
   "cell_type": "code",
   "execution_count": 1,
   "metadata": {},
   "outputs": [],
   "source": [
    "from transformers import BertTokenizer\n",
    "from razdel import sentenize\n",
    "import torch\n",
    "from torch import nn\n",
    "import numpy as np\n",
    "import pandas as pd\n",
    "import tqdm\n",
    "import json\n",
    "import pickle\n",
    "import os\n",
    "import io\n",
    "import matplotlib.pyplot as plt"
   ]
  },
  {
   "cell_type": "code",
   "execution_count": 15,
   "metadata": {},
   "outputs": [],
   "source": [
    "DEVICE = 'cuda:1'\n",
    "MAX_LEN = 200\n",
    "UNK, PAD = \"UNK\", \"PAD\""
   ]
  },
  {
   "cell_type": "markdown",
   "metadata": {},
   "source": [
    "## Dataset"
   ]
  },
  {
   "cell_type": "code",
   "execution_count": 3,
   "metadata": {},
   "outputs": [],
   "source": [
    "from torch.utils.data import Dataset, DataLoader"
   ]
  },
  {
   "cell_type": "code",
   "execution_count": 4,
   "metadata": {},
   "outputs": [],
   "source": [
    "class TelegramRegressionReader(Dataset):\n",
    "    def __init__(self, txt_path, vec_path, chunk_size=2048):\n",
    "        self.txt_path = txt_path\n",
    "        self.vec_path = vec_path\n",
    "\n",
    "        self.shift = 3200 # numpy load reads 3200 bytes from file handler which is equal one vector\n",
    "        \n",
    "        self.chunk_size = chunk_size\n",
    "        \n",
    "        self.size = sum(\n",
    "            len(el) for el in pd.read_json(\n",
    "                self.txt_path,\n",
    "                encoding='utf-8',\n",
    "                lines=True,\n",
    "                chunksize=chunk_size)\n",
    "        )\n",
    "        \n",
    "        s = [0]\n",
    "        with open(txt_path, 'r', encoding='utf-8') as f:\n",
    "            self.txt_linelocs = [s.append(s[0]+len(n)+1) or s.pop(0) for n in f]\n",
    "            \n",
    "    def __len__(self):\n",
    "        return self.size\n",
    "\n",
    "    def __getitem__(self, idx):\n",
    "        with open(self.txt_path, 'r', encoding='utf-8') as f_txt,\\\n",
    "             open(self.vec_path, 'rb') as f_vec:\n",
    "            f_txt.seek(self.txt_linelocs[idx], 0)\n",
    "            txt = f_txt.readline()\n",
    "\n",
    "            f_vec.seek(self.shift * idx, 0)\n",
    "            vec = np.load(f_vec).reshape(1, -1)\n",
    "            \n",
    "            return {'text': txt, 'vector': vec}"
   ]
  },
  {
   "cell_type": "code",
   "execution_count": 5,
   "metadata": {},
   "outputs": [],
   "source": [
    "train = TelegramRegressionReader('/data/alolbuhtijarov/datasets/BertSumAbs_predictions/split/train_texts.jsonl',\n",
    "                                '/data/alolbuhtijarov/datasets/BertSumAbs_predictions/split/train_vec.npy')\n",
    "\n",
    "test = TelegramRegressionReader('/data/alolbuhtijarov/datasets/BertSumAbs_predictions/split/test_texts.jsonl',\n",
    "                                '/data/alolbuhtijarov/datasets/BertSumAbs_predictions/split/test_vec.npy')\n",
    "\n",
    "val = TelegramRegressionReader('/data/alolbuhtijarov/datasets/BertSumAbs_predictions/split/val_texts.jsonl',\n",
    "                              '/data/alolbuhtijarov/datasets/BertSumAbs_predictions/split/val_vec.npy')"
   ]
  },
  {
   "cell_type": "code",
   "execution_count": 6,
   "metadata": {},
   "outputs": [
    {
     "data": {
      "text/plain": [
       "(456939, 14231, 9813)"
      ]
     },
     "execution_count": 6,
     "metadata": {},
     "output_type": "execute_result"
    }
   ],
   "source": [
    "len(train), len(val), len(test)"
   ]
  },
  {
   "cell_type": "code",
   "execution_count": 7,
   "metadata": {},
   "outputs": [],
   "source": [
    "BATCH_SIZE = 1024\n",
    "\n",
    "train_loader = DataLoader(train, batch_size=BATCH_SIZE, shuffle=True, num_workers=16, pin_memory=True)\n",
    "val_loader = DataLoader(val, batch_size=512, num_workers=8, pin_memory=True)\n",
    "test_loader = DataLoader(test, batch_size=512, num_workers=8, pin_memory=True)"
   ]
  },
  {
   "cell_type": "markdown",
   "metadata": {},
   "source": [
    "### Vocabulary building"
   ]
  },
  {
   "cell_type": "code",
   "execution_count": 8,
   "metadata": {},
   "outputs": [],
   "source": [
    "from collections import Counter\n",
    "from nltk.tokenize import wordpunct_tokenize"
   ]
  },
  {
   "cell_type": "code",
   "execution_count": 9,
   "metadata": {},
   "outputs": [],
   "source": [
    "def dict_to_token_list(txt_dict):\n",
    "    txt = txt_dict['text'] + ' ' + txt_dict['title']\n",
    "    return wordpunct_tokenize(txt.replace('\\xa0', ' ').lower().strip())\n",
    "\n",
    "def sample_to_token_list(sample):\n",
    "    return dict_to_token_list(json.loads(sample['text']))"
   ]
  },
  {
   "cell_type": "code",
   "execution_count": 10,
   "metadata": {},
   "outputs": [
    {
     "name": "stderr",
     "output_type": "stream",
     "text": [
      "100%|██████████| 456939/456939 [05:27<00:00, 1393.46it/s]\n"
     ]
    }
   ],
   "source": [
    "cnt = Counter()\n",
    "for i in tqdm.trange(len(train)):\n",
    "    cnt.update(sample_to_token_list(train[i]))"
   ]
  },
  {
   "cell_type": "code",
   "execution_count": 11,
   "metadata": {},
   "outputs": [
    {
     "data": {
      "text/plain": [
       "948538"
      ]
     },
     "execution_count": 11,
     "metadata": {},
     "output_type": "execute_result"
    }
   ],
   "source": [
    "len(cnt)"
   ]
  },
  {
   "cell_type": "code",
   "execution_count": 12,
   "metadata": {},
   "outputs": [],
   "source": [
    "tokens = [UNK, PAD] + [el[0] for el in cnt.most_common(50000)]\n",
    "token_to_id = {t: i for i, t in enumerate(tokens)}"
   ]
  },
  {
   "cell_type": "markdown",
   "metadata": {},
   "source": [
    "### Encoder with pretrained FastText embeddings"
   ]
  },
  {
   "cell_type": "code",
   "execution_count": 13,
   "metadata": {},
   "outputs": [],
   "source": [
    "import fasttext"
   ]
  },
  {
   "cell_type": "code",
   "execution_count": 16,
   "metadata": {},
   "outputs": [
    {
     "name": "stderr",
     "output_type": "stream",
     "text": [
      "Warning : `load_model` does not return WordVectorModel or SupervisedModel any more, but a `FastText` object which is very similar.\n"
     ]
    }
   ],
   "source": [
    "ft = fasttext.load_model('/data/alolbuhtijarov/fasttext_pretrained/cc.ru.300.bin')"
   ]
  },
  {
   "cell_type": "code",
   "execution_count": 18,
   "metadata": {},
   "outputs": [
    {
     "data": {
      "text/plain": [
       "torch.Size([50002, 300])"
      ]
     },
     "execution_count": 18,
     "metadata": {},
     "output_type": "execute_result"
    }
   ],
   "source": [
    "vocab_token_vectors = torch.FloatTensor([\n",
    "    ft.get_word_vector(w) for w in tokens\n",
    "])\n",
    "\n",
    "vocab_token_vectors.shape"
   ]
  },
  {
   "cell_type": "code",
   "execution_count": 19,
   "metadata": {},
   "outputs": [],
   "source": [
    "UNK_IX, PAD_IX = map(token_to_id.get, [UNK, PAD])"
   ]
  },
  {
   "cell_type": "code",
   "execution_count": 20,
   "metadata": {},
   "outputs": [],
   "source": [
    "#vocab_token_vectors[UNK_IX] = 0\n",
    "vocab_token_vectors[PAD_IX] = 0"
   ]
  },
  {
   "cell_type": "code",
   "execution_count": 21,
   "metadata": {},
   "outputs": [],
   "source": [
    "def json_txt_to_input_inds(json_dict_txt):\n",
    "    tokens = dict_to_token_list(json.loads(json_dict_txt))\n",
    "    if len(tokens) < MAX_LEN:\n",
    "        tokens = tokens + [PAD] * (MAX_LEN - len(tokens))\n",
    "\n",
    "    return torch.LongTensor([token_to_id.get(word, UNK_IX) for word in tokens[:MAX_LEN]])\n",
    "\n",
    "def batch_to_torch_x_y(batch):\n",
    "    x = list(map(json_txt_to_input_inds, batch['text']))\n",
    "    x = torch.cat(x).view(-1, MAX_LEN).to(DEVICE)\n",
    "    y = torch.FloatTensor(batch['vector']).squeeze(1).to(DEVICE)\n",
    "    return x, y\n",
    "\n",
    "\n",
    "def raw_txt_to_input_inds(txt):\n",
    "    tokens = wordpunct_tokenize(txt.replace('\\xa0', ' ').lower().strip())\n",
    "    if len(tokens) < MAX_LEN:\n",
    "        tokens = tokens + [PAD] * (MAX_LEN - len(tokens))\n",
    "\n",
    "    return torch.LongTensor([token_to_id.get(word, UNK_IX) for word in tokens[:MAX_LEN]])"
   ]
  },
  {
   "cell_type": "code",
   "execution_count": 22,
   "metadata": {},
   "outputs": [],
   "source": [
    "def print_metrics(model, data_loader, batch_size=256):\n",
    "    cos_loss_val = 0\n",
    "    mae_loss_val = 0\n",
    "    mse_loss_val = 0\n",
    "    \n",
    "    cos_loss = nn.CosineEmbeddingLoss(reduction='sum')\n",
    "    mae_loss = nn.L1Loss(reduction='sum')\n",
    "    mse_loss = nn.MSELoss(reduction='sum')\n",
    "    \n",
    "    num_samples = 0\n",
    "    \n",
    "    model.eval()\n",
    "    with torch.no_grad():\n",
    "        for batch in data_loader:\n",
    "            x, y = batch_to_torch_x_y(batch)\n",
    "            batch_pred = model(x)\n",
    "            \n",
    "            num_samples += len(y)\n",
    "            \n",
    "            cos_loss_val += cos_loss(batch_pred, y, torch.ones(len(y)).to(DEVICE)).item()\n",
    "            mae_loss_val += mae_loss(batch_pred, y).item()\n",
    "            mse_loss_val += mse_loss(batch_pred, y).item()\n",
    "\n",
    "    print('MSE:', round(mse_loss_val / num_samples, 6))\n",
    "    print('MAE:', round(mae_loss_val / num_samples, 6))\n",
    "    print('COS:', round(cos_loss_val / num_samples, 6))\n",
    "    return cos_loss_val / num_samples"
   ]
  },
  {
   "cell_type": "code",
   "execution_count": 23,
   "metadata": {},
   "outputs": [],
   "source": [
    "class SmallEncoder(nn.Module):\n",
    "    def __init__(self, n_tokens=len(tokens),\n",
    "                 hid_size=256):\n",
    "        super().__init__()\n",
    "        \n",
    "        self.embed = nn.Embedding.from_pretrained(vocab_token_vectors, freeze=False)\n",
    "\n",
    "        self.layers = nn.Sequential(\n",
    "            nn.Conv1d(in_channels=300, out_channels=300, kernel_size=3),\n",
    "            nn.AdaptiveAvgPool1d(output_size=1),\n",
    "            nn.BatchNorm1d(num_features=300),\n",
    "            nn.ReLU(),\n",
    "        )\n",
    "        \n",
    "        self.ff = nn.Linear(300, hid_size)\n",
    "        self.relu = nn.ReLU()\n",
    "        self.drop = nn.Dropout(0.05)\n",
    "        self.predictor = nn.Linear(hid_size, 768)\n",
    "\n",
    "    def forward(self, x):\n",
    "        x = self.embed(x)\n",
    "        x = x.permute(0, 2, 1)\n",
    "        x = self.layers(x).squeeze(-1)\n",
    "        x = self.ff(x)\n",
    "        x = self.relu(x)\n",
    "        x = self.drop(x)\n",
    "        x = self.predictor(x)\n",
    "        return x"
   ]
  },
  {
   "cell_type": "code",
   "execution_count": 24,
   "metadata": {},
   "outputs": [],
   "source": [
    "from IPython.display import clear_output"
   ]
  },
  {
   "cell_type": "code",
   "execution_count": 25,
   "metadata": {},
   "outputs": [],
   "source": [
    "def train_model(model, train_loader, val_loader, \n",
    "                criterion, optimizer, scores,\n",
    "                epochs=500, early_stopping=True, patience=10):\n",
    "    best_loss_so_far = float('inf')\n",
    "    steps_without_progress = 0\n",
    "    cos_loss = nn.CosineEmbeddingLoss(reduction='mean')\n",
    "    best_state_dict = None\n",
    "    \n",
    "    if 'train' not in scores:\n",
    "        scores['train_all'] = []\n",
    "        scores['dev'] = []\n",
    "        scores['train'] = []\n",
    "    \n",
    "    for epoch in range(epochs):\n",
    "        print(f\"epoch: {epoch + 1}\")\n",
    "        \n",
    "        model.train()\n",
    "        running_mean_cos_loss = None\n",
    "        for i, batch in tqdm.tqdm(enumerate(train_loader), total=len(train_loader)):\n",
    "            x, y = batch_to_torch_x_y(batch)\n",
    "            pred = model(x)\n",
    "\n",
    "            loss = criterion(pred, y, torch.ones(len(y)).to(DEVICE))\n",
    "            optimizer.zero_grad()\n",
    "            loss.backward()\n",
    "            optimizer.step()\n",
    "            \n",
    "            cos_loss_val = cos_loss(pred, y, torch.ones(len(y)).to(DEVICE)).item()\n",
    "            if running_mean_cos_loss is None:\n",
    "                running_mean_cos_loss = cos_loss_val\n",
    "                \n",
    "            running_mean_cos_loss = 0.3 * running_mean_cos_loss + 0.7 * cos_loss_val\n",
    "            \n",
    "            scores['train_all'].append((epoch, cos_loss_val))\n",
    "\n",
    "        \n",
    "        clear_output(True)\n",
    "        scores['train'].append((epoch, running_mean_cos_loss))\n",
    "        loss_val = print_metrics(model, val_loader)\n",
    "        scores['dev'].append((epoch, loss_val))\n",
    "        \n",
    "        # plotting\n",
    "        plt.scatter(*zip(*scores['train_all']), alpha=0.09, c='b')\n",
    "        plt.plot(*zip(*scores['train']), c='b', label='Train COS')\n",
    "        plt.plot(*zip(*scores['dev']), c='r', label='Dev COS')\n",
    "        plt.ylim(top=0.4); plt.legend(); plt.grid(); plt.show()\n",
    "        \n",
    "        # early stopping handling\n",
    "        if early_stopping:\n",
    "            if loss_val < best_loss_so_far:\n",
    "                best_loss_so_far = loss_val\n",
    "                steps_without_progress = 0\n",
    "                best_state_dict = model.state_dict()\n",
    "            else:\n",
    "                steps_without_progress += 1\n",
    "\n",
    "            if steps_without_progress == patience:\n",
    "                print(f'No progress for {steps_without_progress} iterations! Early stopping...')\n",
    "                break\n",
    "\n",
    "    if early_stopping:\n",
    "        model.load_state_dict(best_state_dict)\n",
    "    return model"
   ]
  },
  {
   "cell_type": "code",
   "execution_count": 26,
   "metadata": {},
   "outputs": [],
   "source": [
    "model = SmallEncoder(hid_size=768).to(DEVICE)\n",
    "criterion = nn.CosineEmbeddingLoss(reduction='mean')\n",
    "optimizer = torch.optim.Adam(model.parameters(), lr=5e-4)\n",
    "scores = dict()"
   ]
  },
  {
   "cell_type": "code",
   "execution_count": null,
   "metadata": {},
   "outputs": [
    {
     "name": "stdout",
     "output_type": "stream",
     "text": [
      "MSE: 324.563835\n",
      "MAE: 373.822847\n",
      "COS: 0.191269\n"
     ]
    },
    {
     "data": {
      "image/png": "[encoded data removed]",
      "text/plain": [
       "<Figure size 432x288 with 1 Axes>"
      ]
     },
     "metadata": {
      "needs_background": "light"
     },
     "output_type": "display_data"
    },
    {
     "name": "stdout",
     "output_type": "stream",
     "text": [
      "epoch: 39\n"
     ]
    },
    {
     "name": "stderr",
     "output_type": "stream",
     "text": [
      "  5%|▌         | 23/447 [00:09<02:47,  2.54it/s]"
     ]
    }
   ],
   "source": [
    "%%time\n",
    "\n",
    "model = train_model(model, train_loader, val_loader, criterion, optimizer, scores, patience=15)"
   ]
  },
  {
   "cell_type": "code",
   "execution_count": 34,
   "metadata": {},
   "outputs": [],
   "source": [
    "def plot_cos_loss(scores):\n",
    "    plt.scatter(*zip(*scores['train_all']), alpha=0.09, c='b')\n",
    "    plt.plot(*zip(*scores['train']), c='b', label='Train COS')\n",
    "    plt.plot(*zip(*scores['dev']), c='r', label='Dev COS')\n",
    "    plt.ylim(top=0.4); plt.legend(); plt.grid(); plt.show()"
   ]
  },
  {
   "cell_type": "code",
   "execution_count": 35,
   "metadata": {},
   "outputs": [
    {
     "data": {
      "image/png": "[encoded data removed]",
      "text/plain": [
       "<Figure size 432x288 with 1 Axes>"
      ]
     },
     "metadata": {
      "needs_background": "light"
     },
     "output_type": "display_data"
    }
   ],
   "source": [
    "plot_cos_loss(scores)"
   ]
  },
  {
   "cell_type": "code",
   "execution_count": 36,
   "metadata": {},
   "outputs": [
    {
     "name": "stdout",
     "output_type": "stream",
     "text": [
      "MSE: 333.880981\n",
      "MAE: 378.430611\n",
      "COS: 0.189397\n"
     ]
    }
   ],
   "source": [
    "print_metrics(model, test_loader);"
   ]
  },
  {
   "cell_type": "code",
   "execution_count": 37,
   "metadata": {},
   "outputs": [],
   "source": [
    "from evaluation.evaluate_clustering import eval_clustering"
   ]
  },
  {
   "cell_type": "code",
   "execution_count": 38,
   "metadata": {},
   "outputs": [
    {
     "data": {
      "text/plain": [
       "SmallEncoder(\n",
       "  (embed): Embedding(50002, 300)\n",
       "  (layers): Sequential(\n",
       "    (0): Conv1d(300, 300, kernel_size=(3,), stride=(1,))\n",
       "    (1): AdaptiveAvgPool1d(output_size=1)\n",
       "    (2): BatchNorm1d(300, eps=1e-05, momentum=0.1, affine=True, track_running_stats=True)\n",
       "    (3): ReLU()\n",
       "  )\n",
       "  (ff): Linear(in_features=300, out_features=768, bias=True)\n",
       "  (relu): ReLU()\n",
       "  (drop): Dropout(p=0.05, inplace=False)\n",
       "  (predictor): Linear(in_features=768, out_features=768, bias=True)\n",
       ")"
      ]
     },
     "execution_count": 38,
     "metadata": {},
     "output_type": "execute_result"
    }
   ],
   "source": [
    "model.eval()"
   ]
  },
  {
   "cell_type": "code",
   "execution_count": 39,
   "metadata": {},
   "outputs": [],
   "source": [
    "def txt_to_vec(txt):\n",
    "    with torch.no_grad():\n",
    "        vec = model(raw_txt_to_input_inds(txt).to(DEVICE).unsqueeze(0))\n",
    "    \n",
    "    return vec.cpu().numpy().flatten()"
   ]
  },
  {
   "cell_type": "code",
   "execution_count": 40,
   "metadata": {},
   "outputs": [],
   "source": [
    "import evaluation.evaluate_clustering"
   ]
  },
  {
   "cell_type": "code",
   "execution_count": 41,
   "metadata": {},
   "outputs": [
    {
     "name": "stderr",
     "output_type": "stream",
     "text": [
      "10730it [00:08, 1294.19it/s]\n",
      "18it [07:28, 24.78s/it]                        /home/alolbuhtijarov/PreSumm/env_sum/lib/python3.6/site-packages/sklearn/metrics/_classification.py:1221: UndefinedMetricWarning: Precision and F-score are ill-defined and being set to 0.0 in labels with no predicted samples. Use `zero_division` parameter to control this behavior.\n",
      "  _warn_prf(average, modifier, msg_start, len(result))\n",
      "19it [07:53, 24.90s/it]/home/alolbuhtijarov/PreSumm/env_sum/lib/python3.6/site-packages/sklearn/metrics/_classification.py:1221: UndefinedMetricWarning: Precision and F-score are ill-defined and being set to 0.0 in labels with no predicted samples. Use `zero_division` parameter to control this behavior.\n",
      "  _warn_prf(average, modifier, msg_start, len(result))\n",
      "20it [08:18, 24.92s/it]\n",
      "100%|██████████| 11/11 [04:36<00:00, 25.10s/it]\n"
     ]
    },
    {
     "name": "stdout",
     "output_type": "stream",
     "text": [
      "Best distance = 0.15943940239955193\n",
      "              precision    recall  f1-score   support\n",
      "\n",
      "           0       0.86      0.92      0.89      1571\n",
      "           1       0.87      0.79      0.83      1130\n",
      "\n",
      "    accuracy                           0.86      2701\n",
      "   macro avg       0.86      0.85      0.86      2701\n",
      "weighted avg       0.86      0.86      0.86      2701\n",
      "\n"
     ]
    }
   ],
   "source": [
    "eval_clustering(txt_to_vec)"
   ]
  },
  {
   "cell_type": "markdown",
   "metadata": {},
   "source": [
    "#### stuff"
   ]
  },
  {
   "cell_type": "markdown",
   "metadata": {},
   "source": [
    "https://pytorch.org/docs/stable/optim.html#per-parameter-options"
   ]
  },
  {
   "cell_type": "code",
   "execution_count": null,
   "metadata": {},
   "outputs": [],
   "source": [
    "def separate_optimizer(net):\n",
    "    embed_param = [kv[1] for kv in net.named_parameters() if kv[0] == 'embed.weight']\n",
    "    model_params = [kv[1] for kv in net.named_parameters() if kv[0] != 'embed.weight']\n",
    "    opt = torch.optim.Adam([\n",
    "                {'params': model_params},\n",
    "                {'params': embed_param, 'lr': 3e-4}\n",
    "    ], lr=3e-3)\n",
    "    return opt"
   ]
  },
  {
   "cell_type": "code",
   "execution_count": null,
   "metadata": {},
   "outputs": [],
   "source": [
    "2+2"
   ]
  },
  {
   "cell_type": "code",
   "execution_count": null,
   "metadata": {},
   "outputs": [],
   "source": []
  }
 ],
 "metadata": {
  "kernelspec": {
   "display_name": "env_sum",
   "language": "python",
   "name": "env_sum"
  },
  "language_info": {
   "codemirror_mode": {
    "name": "ipython",
    "version": 3
   },
   "file_extension": ".py",
   "mimetype": "text/x-python",
   "name": "python",
   "nbconvert_exporter": "python",
   "pygments_lexer": "ipython3",
   "version": "3.6.9"
  }
 },
 "nbformat": 4,
 "nbformat_minor": 4
}
