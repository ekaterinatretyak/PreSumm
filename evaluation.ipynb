{
 "cells": [
  {
   "cell_type": "code",
   "execution_count": 13,
   "metadata": {},
   "outputs": [],
   "source": [
    "import os\n",
    "from os import path\n",
    "from functools import reduce\n",
    "import re\n",
    "import pandas as pd\n",
    "from rouge import Rouge\n",
    "import nltk\n",
    "import numpy as np\n",
    "import random\n",
    "import sys\n",
    "import tqdm\n",
    "import matplotlib.pyplot as plt\n",
    "from collections import Counter\n",
    "from nltk.translate.bleu_score import corpus_bleu\n",
    "from nltk.tokenize import wordpunct_tokenize"
   ]
  },
  {
   "cell_type": "code",
   "execution_count": 20,
   "metadata": {},
   "outputs": [],
   "source": [
    "def calc_metrics(refs, hyps, data, metric=\"all\"):\n",
    "    metrics = dict()\n",
    "    metrics[\"count\"] = len(hyps)\n",
    "    metrics[\"text_example\"] = data[-1]\n",
    "    metrics[\"ref_example\"] = refs[-1]\n",
    "    metrics[\"hyp_example\"] = hyps[-1]\n",
    "    many_refs = [[r] if r is not list else r for r in refs]\n",
    "    if metric in (\"bleu\", \"all\"):\n",
    "        metrics[\"bleu\"] = corpus_bleu(many_refs, hyps)\n",
    "    if metric in (\"rouge\", \"all\"):\n",
    "        rouge = Rouge()\n",
    "        scores = rouge.get_scores(hyps, refs, avg=True)\n",
    "        metrics.update(scores)\n",
    "    return metrics\n",
    "\n",
    "\n",
    "def print_metrics(refs, hyps, data, metric=\"all\"):\n",
    "    metrics = calc_metrics(refs, hyps, data, metric)\n",
    "\n",
    "    print(\"-------------METRICS-------------\")\n",
    "    print(\"Count:\\t\", metrics[\"count\"])\n",
    "    print(\"Text:\\t\", metrics[\"text_example\"])\n",
    "    print(\"Ref:\\t\", metrics[\"ref_example\"])\n",
    "    print(\"Hyp:\\t\", metrics[\"hyp_example\"])\n",
    "\n",
    "    if \"bleu\" in metrics:\n",
    "        print(\"BLEU:     \\t{:3.1f}\".format(metrics[\"bleu\"] * 100.0))\n",
    "    if \"rouge-1\" in metrics:\n",
    "        print(\"ROUGE-1-F:\\t{:3.1f}\".format(metrics[\"rouge-1\"]['f'] * 100.0))\n",
    "        print(\"ROUGE-2-F:\\t{:3.1f}\".format(metrics[\"rouge-2\"]['f'] * 100.0))\n",
    "        print(\"ROUGE-L-F:\\t{:3.1f}\".format(metrics[\"rouge-l\"]['f'] * 100.0))\n",
    "        print('ROUGE-mean\\t{:3.1f}'.format((metrics[\"rouge-1\"]['f'] + \\\n",
    "                                            metrics[\"rouge-2\"]['f'] + \\\n",
    "                                            metrics[\"rouge-l\"]['f']) * 100.0 / 3))\n"
   ]
  },
  {
   "cell_type": "code",
   "execution_count": 21,
   "metadata": {},
   "outputs": [],
   "source": [
    "def n_grams(tokens, n):\n",
    "    l = len(tokens)\n",
    "    return [tuple(tokens[i:i + n]) for i in range(l) if i + n < l]\n",
    "\n",
    "def has_repeat(elements):\n",
    "    d = set(elements)\n",
    "    return len(d) < len(elements)\n",
    "\n",
    "def cal_self_repeat(summary):\n",
    "    ngram_repeats = {2: 0, 4: 0, 8: 0}\n",
    "    sents = summary.split('<q>')\n",
    "    for n in ngram_repeats.keys():\n",
    "        # Respect sentence boundary\n",
    "        grams = reduce(lambda x, y: x + y, [n_grams(sent.split(), n) for sent in sents], [])\n",
    "        ngram_repeats[n] += has_repeat(grams)\n",
    "    return ngram_repeats\n",
    "\n",
    "def cal_novel(summary, gold, source, summary_ngram_novel, gold_ngram_novel):\n",
    "    summary = summary.replace('<q>',' ')\n",
    "    summary = re.sub(r' +', ' ', summary).strip()\n",
    "    gold = gold.replace('<q>',' ')\n",
    "    gold = re.sub(r' +', ' ', gold).strip()\n",
    "    source = source.replace(' ##','')\n",
    "    source = source.replace('[CLS]',' ').replace('[SEP]',' ').replace('[PAD]',' ')\n",
    "    source = re.sub(r' +', ' ', source).strip()\n",
    "\n",
    "\n",
    "    for n in summary_ngram_novel.keys():\n",
    "        summary_grams = set(n_grams(summary.split(), n))\n",
    "        gold_grams = set(n_grams(gold.split(), n))\n",
    "        source_grams = set(n_grams(source.split(), n))\n",
    "        joint = summary_grams.intersection(source_grams)\n",
    "        novel = summary_grams - joint\n",
    "        summary_ngram_novel[n][0] += 1.0*len(novel)\n",
    "        summary_ngram_novel[n][1] += len(summary_grams)\n",
    "        summary_ngram_novel[n][2] += 1.0 * len(novel) / (len(summary.split()) + 1e-6)\n",
    "        joint = gold_grams.intersection(source_grams)\n",
    "        novel = gold_grams - joint\n",
    "        gold_ngram_novel[n][0] += 1.0*len(novel)\n",
    "        gold_ngram_novel[n][1] += len(gold_grams)\n",
    "        gold_ngram_novel[n][2] += 1.0 * len(novel) / (len(gold.split()) + 1e-6)\n",
    "\n",
    "\n",
    "def cal_repeat(cand, gold, data):\n",
    "    lines = zip(cand, gold, data)\n",
    "\n",
    "    summary_ngram_novel = {1: [0, 0, 0], 2: [0, 0, 0], 3: [0,0,0]}\n",
    "    gold_ngram_novel = {1: [0, 0, 0], 2: [0, 0, 0], 3: [0,0,0]}\n",
    "\n",
    "    for c,g,s in lines:\n",
    "        # self_repeats = cal_self_repeat(c)\n",
    "        cal_novel(c, g, s,summary_ngram_novel, gold_ngram_novel)\n",
    "    print(summary_ngram_novel)\n",
    "    print(gold_ngram_novel)\n",
    "    print('-'*80)\n",
    "    for n in summary_ngram_novel.keys():\n",
    "        summary_ngram_novel[n] = summary_ngram_novel[n][0]/summary_ngram_novel[n][1]\n",
    "        gold_ngram_novel[n] = gold_ngram_novel[n][0]/gold_ngram_novel[n][1]\n",
    "    print(summary_ngram_novel)\n",
    "    print(gold_ngram_novel)\n",
    "    return summary_ngram_novel, gold_ngram_novel"
   ]
  },
  {
   "cell_type": "markdown",
   "metadata": {},
   "source": [
    "### mBART on RIA"
   ]
  },
  {
   "cell_type": "code",
   "execution_count": 49,
   "metadata": {},
   "outputs": [],
   "source": [
    "with open('results/ria_mbart.candidate', 'r') as f:\n",
    "    ria_cand_mbart = f.readlines()\n",
    "\n",
    "ria_cand_mbart = [' '.join(wordpunct_tokenize(el.strip())) \n",
    "                  for el in ria_cand_mbart]\n",
    "\n",
    "\n",
    "with open('results/ria_mbart.gold', 'r') as f:\n",
    "    ria_gold_mbart = f.readlines()\n",
    "\n",
    "ria_gold_mbart = [' '.join(wordpunct_tokenize(el.strip())) for el in ria_gold_mbart]\n",
    "\n",
    "with open('results/ria_mbart.raw_src', 'r') as f:\n",
    "    ria_text_mbart = f.readlines()\n",
    "    \n",
    "ria_text_mbart = [' '.join(wordpunct_tokenize(el.strip())) for el in ria_text_mbart]"
   ]
  },
  {
   "cell_type": "code",
   "execution_count": 50,
   "metadata": {},
   "outputs": [
    {
     "name": "stdout",
     "output_type": "stream",
     "text": [
      "Empty predictions number = 3\n"
     ]
    }
   ],
   "source": [
    "empty_prediction_cnt = 0\n",
    "\n",
    "for i in range(len(ria_cand_mbart)):\n",
    "    if ria_cand_mbart[i] == '':\n",
    "        ria_cand_mbart[i] = '-'\n",
    "        empty_prediction_cnt += 1\n",
    "        \n",
    "print('Empty predictions number =', empty_prediction_cnt)"
   ]
  },
  {
   "cell_type": "code",
   "execution_count": 51,
   "metadata": {},
   "outputs": [
    {
     "name": "stdout",
     "output_type": "stream",
     "text": [
      "-------------METRICS-------------\n",
      "Count:\t 49940\n",
      "Text:\t ( агентство риа новости не несет ответственности за информацию , опубликованную российскими газетами ). коммерсант www . kommersant . ru — с банки на банк — из административного запаса эльвира набиуллина уходит на пост председателя цб — вчера президент россии владимир путин в ново - огарево заявил , что предложит госдуме утвердить на пост главы центробанка своего помощника эльвиру набиуллину . — михаила гуцериева вывели на \" красную поляну \" — предпринимателю может достаться пакет братьев билаловых — семья билаловых , раскритикованная в феврале владимиром путиным за срыв сроков строительства трамплинов в сочи к олимпиаде , может выйти из этого проекта . ее долю , оцениваемую в $ 395 млн , в компании \" красная поляна \" может приобрести совладелец \" русснефти \" михаил гуцериев . его появление в проекте можно объяснить не только политической волей , но и хорошими отношениями семьи гуцериевых с другим акционером \" красной поляны \" — сбербанком . — анатолий сердюков прикрылся пво — экс - министр обороны объяснил свое участие в бизнесе заботой о зенитчиках — как стало известно \" ъ \", вчера экс - министр обороны анатолий сердюков впервые за все время расследования громкого уголовного дела \" оборонсервиса \" лично дал развернутые показания главному военному следственному управлению ( гвсу ) скр . участие минобороны в коммерческом проекте своего родственника валерия пузикова в астраханской области в ходе пятичасового допроса он объяснил заботой командования об отдыхе подчиненных . — япония раскачивает авторские права — никите михалкову угрожают дипломатические претензии — власти японии просят российское правительство пересмотреть систему взимания авторских вознаграждений с импортеров бытовой электроники : японских производителей , в частности , не устраивает список облагаемой сбором техники . в результате компания panasonic , один из крупнейших импортеров бытовой электроники , пока до сих пор не заключила договор с российским союзом правообладателей ( рсп ), занимающим < unk >\n",
      "Ref:\t коммерсант - дайджест российской прессы\n",
      "Hyp:\t дайджест российской прессы - 13 марта\n",
      "BLEU:     \t55.4\n",
      "ROUGE-1-F:\t45.1\n",
      "ROUGE-2-F:\t28.1\n",
      "ROUGE-L-F:\t41.8\n",
      "ROUGE-mean\t38.3\n"
     ]
    }
   ],
   "source": [
    "print_metrics(ria_gold_mbart, ria_cand_mbart, ria_text_mbart)"
   ]
  },
  {
   "cell_type": "markdown",
   "metadata": {},
   "source": [
    "### mBART on Lenta"
   ]
  },
  {
   "cell_type": "code",
   "execution_count": 55,
   "metadata": {},
   "outputs": [],
   "source": [
    "with open('results/lenta_mbart.candidate', 'r') as f:\n",
    "    lenta_cand_mbart = f.readlines()\n",
    "\n",
    "lenta_cand_mbart = [' '.join(wordpunct_tokenize(el.strip())) for el in lenta_cand_mbart]\n",
    "\n",
    "\n",
    "with open('results/lenta_mbart.gold', 'r') as f:\n",
    "    lenta_gold_mbart = f.readlines()\n",
    "\n",
    "lenta_gold_mbart = [' '.join(wordpunct_tokenize(el.strip())) for el in lenta_gold_mbart]\n",
    "\n",
    "with open('results/lenta_mbart.raw_src', 'r') as f:\n",
    "    lenta_data_mbart = f.readlines()\n",
    "    \n",
    "lenta_data_mbart = [' '.join(wordpunct_tokenize(el.strip())) for el in lenta_data_mbart]"
   ]
  },
  {
   "cell_type": "code",
   "execution_count": 56,
   "metadata": {},
   "outputs": [
    {
     "name": "stdout",
     "output_type": "stream",
     "text": [
      "Empty predictions number = 611\n"
     ]
    }
   ],
   "source": [
    "empty_prediction_cnt = 0\n",
    "\n",
    "for i in range(len(lenta_cand_mbart)):\n",
    "    if lenta_cand_mbart[i] == '':\n",
    "        lenta_cand_mbart[i] = '-'\n",
    "        empty_prediction_cnt += 1\n",
    "        \n",
    "print('Empty predictions number =', empty_prediction_cnt)"
   ]
  },
  {
   "cell_type": "code",
   "execution_count": 57,
   "metadata": {},
   "outputs": [
    {
     "name": "stdout",
     "output_type": "stream",
     "text": [
      "-------------METRICS-------------\n",
      "Count:\t 75925\n",
      "Text:\t одинсотрудник абхазской таможни сегодня утром убит , трое - ранены врезультате обстрела из засады в населенном пункте тагилони вгальском района абхазии в зоне безопасности , контролируемоймиротворческими силами снг . об этом сегодня сообщиликорреспонденту итар - тасс в службе безопасности гальского района . по словам начальника службы безопасности алексея аршбы , взасаду попал таможенный патруль ( инцидент произошелприблизительно в 5 километрах от грузино - абхазской границы ). правоохранительные органы района этот инцидент расценивают какдиверсионный акт , совершенный грузинской диверсионной группой . к этому часу трое раненых на вертолете доставлены в сухуми , им сделаны операции . по словам главврача больницы , состояниеодного из раненых тяжелое . жизнь двух других - вне опасности . в самом конце августа мандат российских миротворцев в абхазии был продлен на несколько месяцев . это решение принято грузией , считающей абхазию своей неотъемлемой частью , при полном согласии со стороны абхазии , считающей присутствие россии на территории республики единственным гарантом мира и стабильности в регионе . зона безопасности была тогда же , в августе , расширена до размеров всего гальского района абхазии . президент грузии эдуард шеварднадзе признал , что присутствие миротворцев в очаге конфликта поможет в дальнейшем избежать провокаций не только в абхазии , но и на всей территории страны . об этом позавчера писала gazeta ru . как видно , провокации не прекратились даже при наличии миротворцев .< unk >\n",
      "Ref:\t убит абхазский таможенник\n",
      "Hyp:\t три человека ранены при обстреле в гальском районе абхазии\n",
      "BLEU:     \t43.4\n",
      "ROUGE-1-F:\t32.0\n",
      "ROUGE-2-F:\t16.3\n",
      "ROUGE-L-F:\t28.5\n",
      "ROUGE-mean\t25.6\n"
     ]
    }
   ],
   "source": [
    "print_metrics(lenta_gold_mbart, lenta_cand_mbart, lenta_data_mbart)"
   ]
  },
  {
   "cell_type": "markdown",
   "metadata": {},
   "source": [
    "### BertSumAbs RIA"
   ]
  },
  {
   "cell_type": "code",
   "execution_count": 58,
   "metadata": {},
   "outputs": [],
   "source": [
    "ITERATION = '40000'"
   ]
  },
  {
   "cell_type": "code",
   "execution_count": 60,
   "metadata": {},
   "outputs": [],
   "source": [
    "with open('results/ria_40k.' + ITERATION + '.gold', 'r') as f:\n",
    "    ria_gold = f.readlines()\n",
    "    \n",
    "ria_gold = [el.strip().lower() for el in ria_gold]\n",
    "ria_gold = [' '.join(wordpunct_tokenize(el.strip())) for el in ria_gold]\n",
    "\n",
    "\n",
    "with open('results/ria_40k.' + ITERATION + '.candidate', 'r') as f:\n",
    "    ria_cand = f.readlines()\n",
    "\n",
    "ria_cand = [el.strip().lower() for el in ria_cand]\n",
    "ria_cand = [' '.join(wordpunct_tokenize(el.strip())) for el in ria_cand]\n",
    "\n",
    "\n",
    "ria_data = pd.read_csv('results/ria_40k.' + ITERATION + '.raw_src', sep='\\n', names=['text'])\n",
    "ria_data = [el.replace(' ##', '').replace('[CLS]', '').replace('[SEP]', '') for el in ria_data.text.values]\n",
    "ria_data = [' '.join(wordpunct_tokenize(el.strip())) for el in ria_data]\n",
    "\n",
    "\n",
    "assert(len(ria_data) == len(ria_gold) and len(ria_gold) == len(ria_cand))"
   ]
  },
  {
   "cell_type": "code",
   "execution_count": 61,
   "metadata": {},
   "outputs": [
    {
     "name": "stdout",
     "output_type": "stream",
     "text": [
      "-------------METRICS-------------\n",
      "Count:\t 49253\n",
      "Text:\t москва , 13 окт - риа новости . очередной день отборочных матчей чемпионата европы по футболу 2012 года запомнился , кроме победы сборной россии в скопье над македонцами ( 1 : 0 ) , нулевой ничьей англичан с черногорцами в лондоне , сложной победой действующих чемпионов европы и мира испанцев в шотландии , а также отмена матча в генуе , где выяснить отношения итальянцам и сербам помешали фанатские выходки . группа с матч сборных италии и сербии не был сыгран из - за беспорядков , устроенных болельщиками команды гостей . они еще перед началом встречи жгли файеры , бросали предметы на поле и в сторону поклонников \" скуадры адзурры \" . в результате футболистам , выйдя на газон , пришлось вернуться в раздевалки , пока стюарды пытались успокоить разгоряченных фанов . однако организаторам так и не удалось усмирить пылких сербов , и шотландский судья крэйг александер томпсон принял решение об отмене матча . сербские сми связывают агрессивное поведение болельщиков с фигурой основного голкипера\n",
      "Ref:\t евро - 2012 : нули на \" уэмбли \" , трудная победа испании , срыв игры в генуе\n",
      "Hyp:\t день отборочного матчей че - 2012 : ничья россиян и поражение в шотландии\n",
      "BLEU:     \t59.2\n",
      "ROUGE-1-F:\t49.6\n",
      "ROUGE-2-F:\t31.8\n",
      "ROUGE-L-F:\t46.0\n",
      "ROUGE-mean\t42.4\n"
     ]
    }
   ],
   "source": [
    "print_metrics(ria_gold, ria_cand, ria_data)"
   ]
  },
  {
   "cell_type": "markdown",
   "metadata": {},
   "source": [
    "### BertSumAbs Lenta"
   ]
  },
  {
   "cell_type": "code",
   "execution_count": 69,
   "metadata": {},
   "outputs": [],
   "source": [
    "with open('results/lenta_40k.' + ITERATION + '.gold', 'r') as f:\n",
    "    lenta_gold = f.readlines()\n",
    "    \n",
    "lenta_gold = [el.strip().lower() for el in lenta_gold]\n",
    "lenta_gold = [' '.join(wordpunct_tokenize(el.strip())) for el in lenta_gold]\n",
    "\n",
    "\n",
    "with open('results/lenta_40k.' + ITERATION + '.candidate', 'r') as f:\n",
    "    lenta_cand = f.readlines()\n",
    "\n",
    "lenta_cand = [el.strip().lower() for el in lenta_cand]\n",
    "lenta_cand = [' '.join(wordpunct_tokenize(el.strip())) for el in lenta_cand]\n",
    "\n",
    "\n",
    "lenta_data = pd.read_csv('results/lenta_40k.' + ITERATION + '.raw_src', sep='\\n', names=['text'])\n",
    "lenta_data = [el.replace(' ##', '').replace('[CLS]', '').replace('[SEP]', '') for el in lenta_data.text.values]\n",
    "lenta_data = [' '.join(wordpunct_tokenize(el.strip())[:200]) for el in lenta_data]\n",
    "\n",
    "assert(len(lenta_data) == len(lenta_gold) and len(lenta_gold) == len(lenta_cand))"
   ]
  },
  {
   "cell_type": "code",
   "execution_count": 70,
   "metadata": {},
   "outputs": [
    {
     "name": "stdout",
     "output_type": "stream",
     "text": [
      "-------------METRICS-------------\n",
      "Count:\t 75971\n",
      "Text:\t сегодня в окленде ( новая зеландия ) , в рамках саммита по экономическому сотрудничеству в азиатско - тихоокеанском регионе ( apec ) прошла встреча министра иностранных дел россии игоря иванова с государственным секретарем сша мадлен олбрайт . в ходе встречи рассматривался широкий круг проблем двусторонних российско - американских отношений и международной обстановки . на совместной пресс - конференции олбрайт и иванова , отвечая на вопрос о недавнем скандале с отмыванием \" русских денег \" в американских банках , олбрайт заявила : \" я не думаю , что это отразится на российско - американских отношениях \" . она подчеркнула , что именно иванов предложил послать в сша представителей российских спецслужб , чтобы помочь разобраться в этой истории . в свою очередь российский министр подчеркнул , что даже если \" отмытые \" деньги действительно принадлежат российским криминальным структурам , то банки , в которых эти деньги оказались - американские , поэтому нельзя винить россию в этом международном скандале , необходимо разбираться совместно , путем взаимодействия спецслужб . иванов также назвал \" ясной и\n",
      "Ref:\t c кандал с \" отмывкой денег \" не отразится на отношениях сша и россии , считает олбрайт\n",
      "Hyp:\t глава мид рф обсудил с олбрайт ситуацию в американских банках\n",
      "BLEU:     \t44.6\n",
      "ROUGE-1-F:\t32.5\n",
      "ROUGE-2-F:\t16.5\n",
      "ROUGE-L-F:\t29.1\n",
      "ROUGE-mean\t26.1\n"
     ]
    }
   ],
   "source": [
    "print_metrics(lenta_gold, lenta_cand, lenta_data)"
   ]
  },
  {
   "cell_type": "markdown",
   "metadata": {},
   "source": [
    "### Novel n-gram proportion"
   ]
  },
  {
   "cell_type": "code",
   "execution_count": 67,
   "metadata": {},
   "outputs": [
    {
     "name": "stdout",
     "output_type": "stream",
     "text": [
      "{1: [26637.0, 423602, 2789.6856964539024], 2: [108666.0, 390194, 11096.330566741713], 3: [150702.0, 340593, 15122.009788959123]}\n",
      "{1: [121525.0, 425236, 12540.635899537567], 2: [251637.0, 392074, 25235.844913661593], 3: [274650.0, 342708, 27079.855296541285]}\n",
      "--------------------------------------------------------------------------------\n",
      "{1: 0.06288213936666966, 2: 0.2784922371948313, 3: 0.44246945768116197}\n",
      "{1: 0.2857824831387747, 2: 0.6418099644454873, 3: 0.801411113834518}\n",
      "{1: [40606.0, 607509, 4367.235662047725], 2: [151917.0, 550490, 16161.068448506763], 3: [203925.0, 476112, 21343.561012406153]}\n",
      "{1: [203253.0, 537525, 24534.347847496636], 2: [338372.0, 474667, 39812.24478637052], 3: [340471.0, 399767, 39028.94238011857]}\n",
      "--------------------------------------------------------------------------------\n",
      "{1: 0.06684016203875169, 2: 0.2759668658831223, 3: 0.42831308599657225}\n",
      "{1: 0.37812752895214174, 2: 0.7128618589453237, 3: 0.8516735998719254}\n",
      "{1: [74673.0, 414377, 7760.626083975833], 2: [184458.0, 383389, 18909.480595647106], 3: [219921.0, 334352, 22218.278017520588]}\n",
      "{1: [131650.0, 424721, 13405.771869633007], 2: [256461.0, 392698, 25575.926997422386], 3: [276476.0, 343700, 27171.56556022921]}\n",
      "--------------------------------------------------------------------------------\n",
      "{1: 0.1802054650716618, 2: 0.4811249149036618, 3: 0.657752907115854}\n",
      "{1: 0.30996819088295613, 2: 0.6530743726731483, 3: 0.8044108233924935}\n",
      "{1: [134431.0, 614501, 14477.35255872049], 2: [293257.0, 562939, 31032.657618663496], 3: [336173.0, 487486, 35051.54303397117]}\n",
      "{1: [213064.0, 538301, 25582.347553429645], 2: [343315.0, 476224, 40218.164094182815], 3: [342893.0, 401642, 39131.46703844097]}\n",
      "--------------------------------------------------------------------------------\n",
      "{1: 0.218764493467057, 2: 0.5209392136625816, 3: 0.6896054450794484}\n",
      "{1: 0.39580829312968024, 2: 0.720910747883349, 3: 0.8537279467784744}\n"
     ]
    }
   ],
   "source": [
    "ria_cand_nov_m, ria_gold_nov_m = cal_repeat(ria_cand_mbart, ria_gold_mbart, ria_text_mbart)\n",
    "\n",
    "lenta_cand_nov_m, lenta_gold_nov_m = cal_repeat(lenta_cand_mbart, lenta_gold_mbart, lenta_data_mbart)\n",
    "\n",
    "ria_cand_nov, ria_gold_nov = cal_repeat(ria_cand, ria_gold, ria_data)\n",
    "\n",
    "lenta_cand_nov, lenta_gold_nov = cal_repeat(lenta_cand, lenta_gold, lenta_data)"
   ]
  },
  {
   "cell_type": "code",
   "execution_count": 68,
   "metadata": {},
   "outputs": [
    {
     "data": {
      "image/png": "[encoded data removed]",
      "text/plain": [
       "<Figure size 864x288 with 2 Axes>"
      ]
     },
     "metadata": {
      "needs_background": "light"
     },
     "output_type": "display_data"
    }
   ],
   "source": [
    "fig, ax = plt.subplots(1,2)\n",
    "fig.set_figheight(4)\n",
    "fig.set_figwidth(12)\n",
    "fig.subplots_adjust(wspace=0.15)\n",
    "\n",
    "\n",
    "\n",
    "ind = np.arange(3)    # the x locations for the groups\n",
    "width = 0.25         # the width of the bars\n",
    "\n",
    "p0 = ax[0].bar(ind - width, ria_cand_nov_m.values(), width, color='papayawhip')\n",
    "p1 = ax[0].bar(ind, ria_cand_nov.values(), width, color='lightgray')\n",
    "p2 = ax[0].bar(ind + width, ria_gold_nov.values(), width, color='lavender')\n",
    "\n",
    "\n",
    "ax[0].set_xticks(ind + width / 2)\n",
    "ax[0].set_xticklabels(('1-grams', '2-grams', '3-grams', '4-grams'))\n",
    "ax[0].yaxis.set_ticks(np.arange(0, 1, 0.1))\n",
    "\n",
    "    \n",
    "ax[0].set_ylabel('Proportion of novel n-grams')\n",
    "ax[0].legend((p0[0], p1[0], p2[0]), ('mBART', 'BertSumAbs', 'Reference'))\n",
    "ax[0].set_title('(a) RIA dataset', y=-0.22)\n",
    "\n",
    "\n",
    "###########################################################################################\n",
    "\n",
    "p3 = ax[1].bar(ind - width, lenta_cand_nov_m.values(), width, color='papayawhip')\n",
    "p4 = ax[1].bar(ind, lenta_cand_nov.values(), width, color='lightgray')\n",
    "p5 = ax[1].bar(ind + width, lenta_gold_nov.values(), width, color='lavender')\n",
    "\n",
    "ax[1].set_xticks(ind + width / 2)\n",
    "ax[1].set_xticklabels(('1-grams', '2-grams', '3-grams', '4-grams'))\n",
    "ax[1].yaxis.set_ticks(np.arange(0, 1, 0.1))\n",
    "\n",
    "    \n",
    "ax[1].legend((p3[0], p4[0], p5[0]), ('mBART', 'BertSumAbs', 'Reference'))\n",
    "ax[1].set_title('(b) Lenta dataset', y=-0.22)\n",
    "\n",
    "\n",
    "plt.draw()\n",
    "fig.savefig('novel_ngrams.eps', bbox_inches='tight', format='eps')"
   ]
  },
  {
   "cell_type": "markdown",
   "metadata": {},
   "source": [
    "### First Sentence Baseline"
   ]
  },
  {
   "cell_type": "code",
   "execution_count": 22,
   "metadata": {},
   "outputs": [],
   "source": [
    "lenta_fs_cand = []\n",
    "for el in lenta_data:\n",
    "    try:\n",
    "        lenta_fs_cand.append(el.split('.')[0].strip())\n",
    "    except Exception:\n",
    "        lenta_fs_cand.append(el)\n",
    "    if not lenta_fs_cand[-1]:\n",
    "        lenta_fs_cand[-1] = el"
   ]
  },
  {
   "cell_type": "code",
   "execution_count": 23,
   "metadata": {},
   "outputs": [
    {
     "name": "stdout",
     "output_type": "stream",
     "text": [
      "-------------METRICS-------------\n",
      "Count:\t 75971\n",
      "Text:\t сегодня в окленде ( новая зеландия ) , в рамках саммита по экономическому сотрудничеству в азиатско - тихоокеанском регионе ( apec ) прошла встреча министра иностранных дел россии игоря иванова с государственным секретарем сша мадлен олбрайт . в ходе встречи рассматривался широкий круг проблем двусторонних российско - американских отношений и международной обстановки . на совместной пресс - конференции олбрайт и иванова , отвечая на вопрос о недавнем скандале с отмыванием \" русских денег \" в американских банках , олбрайт заявила : \" я не думаю , что это отразится на российско - американских отношениях \" . она подчеркнула , что именно иванов предложил послать в сша представителей российских спецслужб , чтобы помочь разобраться в этой истории . в свою очередь российский министр подчеркнул , что даже если \" отмытые \" деньги действительно принадлежат российским криминальным структурам , то банки , в которых эти деньги оказались - американские , поэтому нельзя винить россию в этом международном скандале , необходимо разбираться совместно , путем взаимодействия спецслужб . иванов также назвал \" ясной и\n",
      "Ref:\t c кандал с \" отмывкой денег \" не отразится на отношениях сша и россии , считает олбрайт\n",
      "Hyp:\t сегодня в окленде ( новая зеландия ) , в рамках саммита по экономическому сотрудничеству в азиатско - тихоокеанском регионе ( apec ) прошла встреча министра иностранных дел россии игоря иванова с государственным секретарем сша мадлен олбрайт\n",
      "BLEU:     \t23.8\n",
      "ROUGE-1-F:\t26.6\n",
      "ROUGE-2-F:\t12.6\n",
      "ROUGE-L-F:\t19.9\n",
      "ROUGE-mean\t19.7\n",
      "Dup 1-grams:\t17.48\n",
      "Dup 2-grams:\t11.37\n",
      "Dup 3-grams:\t11.61\n"
     ]
    }
   ],
   "source": [
    "print_metrics(lenta_gold, lenta_fs_cand, lenta_data)"
   ]
  },
  {
   "cell_type": "code",
   "execution_count": 24,
   "metadata": {},
   "outputs": [],
   "source": [
    "ria_fs_cand = []\n",
    "for el in ria_data:\n",
    "    try:\n",
    "        ria_fs_cand.append(el.split('.')[1].strip())\n",
    "    except Exception:\n",
    "        ria_fs_cand.append(el)\n",
    "    if not ria_fs_cand[-1]:\n",
    "        ria_fs_cand[-1] = el"
   ]
  },
  {
   "cell_type": "code",
   "execution_count": 25,
   "metadata": {},
   "outputs": [
    {
     "name": "stdout",
     "output_type": "stream",
     "text": [
      "-------------METRICS-------------\n",
      "Count:\t 49253\n",
      "Text:\t москва , 13 окт - риа новости . очередной день отборочных матчей чемпионата европы по футболу 2012 года запомнился , кроме победы сборной россии в скопье над македонцами ( 1 : 0 ) , нулевой ничьей англичан с черногорцами в лондоне , сложной победой действующих чемпионов европы и мира испанцев в шотландии , а также отмена матча в генуе , где выяснить отношения итальянцам и сербам помешали фанатские выходки . группа с матч сборных италии и сербии не был сыгран из - за беспорядков , устроенных болельщиками команды гостей . они еще перед началом встречи жгли файеры , бросали предметы на поле и в сторону поклонников \" скуадры адзурры \" . в результате футболистам , выйдя на газон , пришлось вернуться в раздевалки , пока стюарды пытались успокоить разгоряченных фанов . однако организаторам так и не удалось усмирить пылких сербов , и шотландский судья крэйг александер томпсон принял решение об отмене матча . сербские сми связывают агрессивное поведение болельщиков с фигурой основного голкипера\n",
      "Ref:\t евро - 2012 : нули на \" уэмбли \" , трудная победа испании , срыв игры в генуе\n",
      "Hyp:\t очередной день отборочных матчей чемпионата европы по футболу 2012 года запомнился , кроме победы сборной россии в скопье над македонцами ( 1 : 0 ) , нулевой ничьей англичан с черногорцами в лондоне , сложной победой действующих чемпионов европы и мира испанцев в шотландии , а также отмена матча в генуе , где выяснить отношения итальянцам и сербам помешали фанатские выходки\n",
      "BLEU:     \t21.6\n",
      "ROUGE-1-F:\t27.6\n",
      "ROUGE-2-F:\t13.0\n",
      "ROUGE-L-F:\t18.8\n",
      "ROUGE-mean\t19.8\n",
      "Dup 1-grams:\t14.08\n",
      "Dup 2-grams:\t4.03\n",
      "Dup 3-grams:\t3.81\n"
     ]
    }
   ],
   "source": [
    "print_metrics(ria_gold, ria_fs_cand, ria_data)"
   ]
  },
  {
   "cell_type": "markdown",
   "metadata": {},
   "source": [
    "#### Rouge"
   ]
  },
  {
   "cell_type": "code",
   "execution_count": 147,
   "metadata": {},
   "outputs": [
    {
     "data": {
      "image/png": "[encoded data removed]",
      "text/plain": [
       "<Figure size 432x288 with 1 Axes>"
      ]
     },
     "metadata": {},
     "output_type": "display_data"
    }
   ],
   "source": [
    "plt.plot((mean_len + mean_len_m) / 2, mean_r_m, label='mBART')\n",
    "plt.plot((mean_len + mean_len_m) / 2, mean_r, label='BertSumAbs')\n",
    "plt.xlabel('Mean document length on RIA dataset')\n",
    "plt.legend()\n",
    "plt.ylabel('Mean rouge');\n",
    "plt.savefig('mean_rouge.eps', bbox_inches='tight', format='eps')"
   ]
  },
  {
   "cell_type": "markdown",
   "metadata": {},
   "source": [
    "#### BLEU"
   ]
  },
  {
   "cell_type": "code",
   "execution_count": 148,
   "metadata": {},
   "outputs": [
    {
     "data": {
      "image/png": "[encoded data removed]",
      "text/plain": [
       "<Figure size 432x288 with 1 Axes>"
      ]
     },
     "metadata": {},
     "output_type": "display_data"
    }
   ],
   "source": [
    "plt.plot((mean_len + mean_len_m) / 2, mean_b_m, label='mBART')\n",
    "plt.plot((mean_len + mean_len_m) / 2, mean_b, label='BertSumAbs')\n",
    "plt.xlabel('Mean document length on RIA dataset')\n",
    "plt.legend()\n",
    "plt.ylabel('Mean rouge');\n",
    "plt.savefig('mean_bleu.eps', bbox_inches='tight', format='eps')"
   ]
  },
  {
   "cell_type": "markdown",
   "metadata": {},
   "source": [
    "### LOGS"
   ]
  },
  {
   "cell_type": "code",
   "execution_count": 46,
   "metadata": {},
   "outputs": [],
   "source": [
    "with open('logs/abs_bert_ria') as f:\n",
    "    data = f.readlines()"
   ]
  },
  {
   "cell_type": "code",
   "execution_count": 47,
   "metadata": {},
   "outputs": [],
   "source": [
    "train_scores = []\n",
    "val_scores = []\n",
    "\n",
    "prev_train = None\n",
    "for j, el in enumerate(data):\n",
    "    if 'INFO] Step ' in el:\n",
    "        assert not prev_train\n",
    "        \n",
    "        step_start = el.find('INFO] Step ') + 11\n",
    "        step_end = el.find('/200000; acc:')\n",
    "        step_num = int(el[step_start:step_end])\n",
    "        \n",
    "        acc_start = el.find('/200000; acc:  ') + 15\n",
    "        acc_end = el.find('; ppl:')\n",
    "        acc = float(el[acc_start:acc_end])\n",
    "        \n",
    "        xent_start = el.find('; xent: ') + 8\n",
    "        xent_end = el.find('; lr: 0.00')\n",
    "        xent = float(el[xent_start:xent_end])\n",
    "        \n",
    "        train_scores.append((step_num, acc, xent))\n",
    "        prev_train = True\n",
    "        \n",
    "    if  ' INFO] Validation accuracy: ' in el and prev_train is True:\n",
    "        acc = float(el[el.find('accuracy: ') + 10:-2])\n",
    "        xent =  float(data[j+1][data[j+1].find(' xent:') + 6:-2])\n",
    "        val_scores.append((acc, xent))\n",
    "        \n",
    "        prev_train = False\n",
    "        "
   ]
  },
  {
   "cell_type": "code",
   "execution_count": 48,
   "metadata": {},
   "outputs": [],
   "source": [
    "steps = [el[0] for el in train_scores]"
   ]
  },
  {
   "cell_type": "code",
   "execution_count": 49,
   "metadata": {},
   "outputs": [],
   "source": [
    "train_scores = train_scores[:steps.index(5200)] + train_scores[steps.index(6800) + 1:]\n",
    "val_scores = val_scores[:steps.index(5200)] + val_scores[steps.index(6800) + 1:]\n",
    "steps = steps[:steps.index(5200)] + steps[steps.index(6800) + 1:]"
   ]
  },
  {
   "cell_type": "code",
   "execution_count": 50,
   "metadata": {},
   "outputs": [],
   "source": [
    "import seaborn as sns\n",
    "sns.set()"
   ]
  },
  {
   "cell_type": "code",
   "execution_count": 23,
   "metadata": {},
   "outputs": [
    {
     "data": {
      "image/png": "[encoded data removed]",
      "text/plain": [
       "<Figure size 432x288 with 1 Axes>"
      ]
     },
     "metadata": {},
     "output_type": "display_data"
    }
   ],
   "source": [
    "plt.plot(steps, np.array([el[1] for el in train_scores]), label='Train', color='midnightblue')\n",
    "plt.plot(steps, np.array([el[0] for el in val_scores]), label='Val', color='grey')\n",
    "plt.title('Accuracy')\n",
    "plt.legend()\n",
    "plt.show()"
   ]
  },
  {
   "cell_type": "code",
   "execution_count": 58,
   "metadata": {},
   "outputs": [
    {
     "data": {
      "image/png": "[encoded data removed]",
      "text/plain": [
       "<Figure size 432x288 with 1 Axes>"
      ]
     },
     "metadata": {},
     "output_type": "display_data"
    }
   ],
   "source": [
    "plt.plot(np.array(steps) / 1000, np.array([el[2] for el in train_scores]), label='Train', color='midnightblue')\n",
    "plt.plot(np.array(steps) / 1000, np.array([el[1] for el in val_scores]), label='Validation', color='grey')\n",
    "plt.xlabel('Steps, thousand')\n",
    "plt.ylabel('Loss')\n",
    "plt.legend()\n",
    "plt.draw()\n",
    "plt.savefig('train.eps', bbox_inches='tight', format='eps')"
   ]
  }
 ],
 "metadata": {
  "kernelspec": {
   "display_name": "Python 3",
   "language": "python",
   "name": "python3"
  },
  "language_info": {
   "codemirror_mode": {
    "name": "ipython",
    "version": 3
   },
   "file_extension": ".py",
   "mimetype": "text/x-python",
   "name": "python",
   "nbconvert_exporter": "python",
   "pygments_lexer": "ipython3",
   "version": "3.7.5"
  }
 },
 "nbformat": 4,
 "nbformat_minor": 2
}
