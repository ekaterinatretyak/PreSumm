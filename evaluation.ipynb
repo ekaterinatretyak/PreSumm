{
 "cells": [
  {
   "cell_type": "code",
   "execution_count": 1,
   "metadata": {},
   "outputs": [],
   "source": [
    "import os\n",
    "from os import path\n",
    "from functools import reduce\n",
    "import re\n",
    "import pandas as pd\n",
    "from rouge import Rouge\n",
    "import nltk\n",
    "import numpy as np\n",
    "import random\n",
    "import sys\n",
    "import tqdm\n",
    "import matplotlib.pyplot as plt\n",
    "from collections import Counter\n",
    "from nltk.translate.bleu_score import corpus_bleu"
   ]
  },
  {
   "cell_type": "code",
   "execution_count": 2,
   "metadata": {},
   "outputs": [],
   "source": [
    "def calc_metrics(refs, hyps, data, metric=\"all\"):\n",
    "    metrics = dict()\n",
    "    metrics[\"count\"] = len(hyps)\n",
    "    metrics[\"text_example\"] = data[-1]\n",
    "    metrics[\"ref_example\"] = refs[-1]\n",
    "    metrics[\"hyp_example\"] = hyps[-1]\n",
    "    many_refs = [[r] if r is not list else r for r in refs]\n",
    "    if metric in (\"bleu\", \"all\"):\n",
    "        metrics[\"bleu\"] = corpus_bleu(many_refs, hyps)\n",
    "    if metric in (\"rouge\", \"all\"):\n",
    "        rouge = Rouge()\n",
    "        scores = rouge.get_scores(hyps, refs, avg=True)\n",
    "        metrics.update(scores)\n",
    "    return metrics\n",
    "\n",
    "\n",
    "def print_metrics(refs, hyps, data, metric=\"all\"):\n",
    "    metrics = calc_metrics(refs, hyps, data, metric)\n",
    "\n",
    "    print(\"-------------METRICS-------------\")\n",
    "    print(\"Count:\\t\", metrics[\"count\"])\n",
    "    print(\"Text:\\t\", metrics[\"text_example\"])\n",
    "    print(\"Ref:\\t\", metrics[\"ref_example\"])\n",
    "    print(\"Hyp:\\t\", metrics[\"hyp_example\"])\n",
    "\n",
    "    if \"bleu\" in metrics:\n",
    "        print(\"BLEU:     \\t{:3.1f}\".format(metrics[\"bleu\"] * 100.0))\n",
    "    if \"rouge-1\" in metrics:\n",
    "        print(\"ROUGE-1-F:\\t{:3.1f}\".format(metrics[\"rouge-1\"]['f'] * 100.0))\n",
    "        print(\"ROUGE-2-F:\\t{:3.1f}\".format(metrics[\"rouge-2\"]['f'] * 100.0))\n",
    "        print(\"ROUGE-L-F:\\t{:3.1f}\".format(metrics[\"rouge-l\"]['f'] * 100.0))\n",
    "        print('ROUGE-mean\\t{:3.1f}'.format((metrics[\"rouge-1\"]['f'] + \\\n",
    "                                            metrics[\"rouge-2\"]['f'] + \\\n",
    "                                            metrics[\"rouge-l\"]['f']) * 100.0 / 3))\n"
   ]
  },
  {
   "cell_type": "code",
   "execution_count": 3,
   "metadata": {},
   "outputs": [],
   "source": [
    "def n_grams(tokens, n):\n",
    "    l = len(tokens)\n",
    "    return [tuple(tokens[i:i + n]) for i in range(l) if i + n < l]\n",
    "\n",
    "def has_repeat(elements):\n",
    "    d = set(elements)\n",
    "    return len(d) < len(elements)\n",
    "\n",
    "def cal_self_repeat(summary):\n",
    "    ngram_repeats = {2: 0, 4: 0, 8: 0}\n",
    "    sents = summary.split('<q>')\n",
    "    for n in ngram_repeats.keys():\n",
    "        # Respect sentence boundary\n",
    "        grams = reduce(lambda x, y: x + y, [n_grams(sent.split(), n) for sent in sents], [])\n",
    "        ngram_repeats[n] += has_repeat(grams)\n",
    "    return ngram_repeats\n",
    "\n",
    "def cal_novel(summary, gold, source, summary_ngram_novel, gold_ngram_novel):\n",
    "    summary = summary.replace('<q>',' ')\n",
    "    summary = re.sub(r' +', ' ', summary).strip()\n",
    "    gold = gold.replace('<q>',' ')\n",
    "    gold = re.sub(r' +', ' ', gold).strip()\n",
    "    source = source.replace(' ##','')\n",
    "    source = source.replace('[CLS]',' ').replace('[SEP]',' ').replace('[PAD]',' ')\n",
    "    source = re.sub(r' +', ' ', source).strip()\n",
    "\n",
    "\n",
    "    for n in summary_ngram_novel.keys():\n",
    "        summary_grams = set(n_grams(summary.split(), n))\n",
    "        gold_grams = set(n_grams(gold.split(), n))\n",
    "        source_grams = set(n_grams(source.split(), n))\n",
    "        joint = summary_grams.intersection(source_grams)\n",
    "        novel = summary_grams - joint\n",
    "        summary_ngram_novel[n][0] += 1.0*len(novel)\n",
    "        summary_ngram_novel[n][1] += len(summary_grams)\n",
    "        summary_ngram_novel[n][2] += 1.0 * len(novel) / (len(summary.split()) + 1e-6)\n",
    "        joint = gold_grams.intersection(source_grams)\n",
    "        novel = gold_grams - joint\n",
    "        gold_ngram_novel[n][0] += 1.0*len(novel)\n",
    "        gold_ngram_novel[n][1] += len(gold_grams)\n",
    "        gold_ngram_novel[n][2] += 1.0 * len(novel) / (len(gold.split()) + 1e-6)\n",
    "\n",
    "\n",
    "def cal_repeat(cand, gold, data):\n",
    "    lines = zip(cand, gold, data)\n",
    "\n",
    "    summary_ngram_novel = {1: [0, 0, 0], 2: [0, 0, 0], 3: [0,0,0]}\n",
    "    gold_ngram_novel = {1: [0, 0, 0], 2: [0, 0, 0], 3: [0,0,0]}\n",
    "\n",
    "    for c,g,s in lines:\n",
    "        # self_repeats = cal_self_repeat(c)\n",
    "        cal_novel(c, g, s,summary_ngram_novel, gold_ngram_novel)\n",
    "    print(summary_ngram_novel)\n",
    "    print(gold_ngram_novel)\n",
    "    print('-'*80)\n",
    "    for n in summary_ngram_novel.keys():\n",
    "        summary_ngram_novel[n] = summary_ngram_novel[n][0]/summary_ngram_novel[n][1]\n",
    "        gold_ngram_novel[n] = gold_ngram_novel[n][0]/gold_ngram_novel[n][1]\n",
    "    print(summary_ngram_novel)\n",
    "    print(gold_ngram_novel)\n",
    "    return summary_ngram_novel, gold_ngram_novel"
   ]
  },
  {
   "cell_type": "markdown",
   "metadata": {},
   "source": [
    "### mBART on RIA"
   ]
  },
  {
   "cell_type": "code",
   "execution_count": 4,
   "metadata": {},
   "outputs": [],
   "source": [
    "with open('final_results/ria_mbart.cand', 'r') as f:\n",
    "    ria_cand_mbart = f.readlines()\n",
    "\n",
    "ria_cand_mbart = [el.replace(' ', '').replace('▁', ' ').strip()\n",
    "                  for el in ria_cand_mbart]\n",
    "\n",
    "\n",
    "with open('final_results/ria_mbart.gold', 'r') as f:\n",
    "    ria_gold_mbart = f.readlines()\n",
    "\n",
    "ria_gold_mbart = [el.strip() for el in ria_gold_mbart]\n",
    "\n",
    "with open('final_results/ria_mbart.raw_src', 'r') as f:\n",
    "    ria_text_mbart = f.readlines()\n",
    "    \n",
    "ria_text_mbart = [el.strip() for el in ria_text_mbart]"
   ]
  },
  {
   "cell_type": "code",
   "execution_count": 5,
   "metadata": {},
   "outputs": [
    {
     "name": "stdout",
     "output_type": "stream",
     "text": [
      "Empty predictions number = 3\n"
     ]
    }
   ],
   "source": [
    "empty_prediction_cnt = 0\n",
    "\n",
    "for i in range(len(ria_cand_mbart)):\n",
    "    if ria_cand_mbart[i] == '':\n",
    "        ria_cand_mbart[i] = '-'\n",
    "        empty_prediction_cnt += 1\n",
    "        \n",
    "print('Empty predictions number =', empty_prediction_cnt)"
   ]
  },
  {
   "cell_type": "code",
   "execution_count": 6,
   "metadata": {},
   "outputs": [
    {
     "name": "stdout",
     "output_type": "stream",
     "text": [
      "-------------METRICS-------------\n",
      "Count:\t 49940\n",
      "Text:\t (агентство риа новости не несет ответственности за информацию, опубликованную российскими газетами). коммерсант www.kommersant.ru — с банки на банк — из административного запаса эльвира набиуллина уходит на пост председателя цб — вчера президент россии владимир путин в ново-огарево заявил, что предложит госдуме утвердить на пост главы центробанка своего помощника эльвиру набиуллину. — михаила гуцериева вывели на \"красную поляну\" — предпринимателю может достаться пакет братьев билаловых — семья билаловых, раскритикованная в феврале владимиром путиным за срыв сроков строительства трамплинов в сочи к олимпиаде, может выйти из этого проекта. ее долю, оцениваемую в $395 млн, в компании \"красная поляна\" может приобрести совладелец \"русснефти\" михаил гуцериев. его появление в проекте можно объяснить не только политической волей, но и хорошими отношениями семьи гуцериевых с другим акционером \"красной поляны\" — сбербанком. — анатолий сердюков прикрылся пво — экс-министр обороны объяснил свое участие в бизнесе заботой о зенитчиках — как стало известно \"ъ\", вчера экс-министр обороны анатолий сердюков впервые за все время расследования громкого уголовного дела \"оборонсервиса\" лично дал развернутые показания главному военному следственному управлению (гвсу) скр. участие минобороны в коммерческом проекте своего родственника валерия пузикова в астраханской области в ходе пятичасового допроса он объяснил заботой командования об отдыхе подчиненных. — япония раскачивает авторские права — никите михалкову угрожают дипломатические претензии — власти японии просят российское правительство пересмотреть систему взимания авторских вознаграждений с импортеров бытовой электроники: японских производителей, в частности, не устраивает список облагаемой сбором техники. в результате компания panasonic, один из крупнейших импортеров бытовой электроники, пока до сих пор не заключила договор с российским союзом правообладателей (рсп), занимающим<unk>\n",
      "Ref:\t дайджест российской прессы - 13 марта\n",
      "Hyp:\t коммерсант - дайджест российской прессы\n",
      "BLEU:     \t55.1\n",
      "ROUGE-1-F:\t42.8\n",
      "ROUGE-2-F:\t25.5\n",
      "ROUGE-L-F:\t39.9\n",
      "ROUGE-mean\t36.1\n"
     ]
    }
   ],
   "source": [
    "print_metrics(ria_gold_mbart, ria_cand_mbart, ria_text_mbart)"
   ]
  },
  {
   "cell_type": "markdown",
   "metadata": {},
   "source": [
    "### mBART on Lenta"
   ]
  },
  {
   "cell_type": "code",
   "execution_count": 7,
   "metadata": {},
   "outputs": [],
   "source": [
    "with open('results/lenta_mbart.candidate', 'r') as f:\n",
    "    lenta_cand_mbart = f.readlines()\n",
    "\n",
    "lenta_cand_mbart = [el.strip() for el in lenta_cand_mbart]\n",
    "\n",
    "\n",
    "with open('results/lenta_mbart.gold', 'r') as f:\n",
    "    lenta_gold_mbart = f.readlines()\n",
    "\n",
    "lenta_gold_mbart = [el.strip() for el in lenta_gold_mbart]\n",
    "\n",
    "with open('results/lenta_mbart.raw_src', 'r') as f:\n",
    "    lenta_data_mbart = f.readlines()\n",
    "    \n",
    "lenta_data_mbart = [el.strip() for el in lenta_data_mbart]"
   ]
  },
  {
   "cell_type": "code",
   "execution_count": 8,
   "metadata": {},
   "outputs": [
    {
     "name": "stdout",
     "output_type": "stream",
     "text": [
      "Empty predictions number = 611\n"
     ]
    }
   ],
   "source": [
    "empty_prediction_cnt = 0\n",
    "\n",
    "for i in range(len(lenta_cand_mbart)):\n",
    "    if lenta_cand_mbart[i] == '':\n",
    "        lenta_cand_mbart[i] = '-'\n",
    "        empty_prediction_cnt += 1\n",
    "        \n",
    "print('Empty predictions number =', empty_prediction_cnt)"
   ]
  },
  {
   "cell_type": "code",
   "execution_count": 9,
   "metadata": {},
   "outputs": [
    {
     "name": "stdout",
     "output_type": "stream",
     "text": [
      "-------------METRICS-------------\n",
      "Count:\t 75925\n",
      "Text:\t одинсотрудник абхазской таможни сегодня утром убит, трое - ранены врезультате обстрела из засады в населенном пункте тагилони вгальском района абхазии в зоне безопасности, контролируемоймиротворческими силами снг. об этом сегодня сообщиликорреспонденту итар-тасс в службе безопасности гальского района. по словам начальника службы безопасности алексея аршбы, взасаду попал таможенный патруль (инцидент произошелприблизительно в 5 километрах от грузино-абхазской границы).правоохранительные органы района этот инцидент расценивают какдиверсионный акт, совершенный грузинской диверсионной группой. к этому часу трое раненых на вертолете доставлены в сухуми,им сделаны операции. по словам главврача больницы, состояниеодного из раненых тяжелое. жизнь двух других - вне опасности. в самом конце августа мандат российских миротворцев в абхазии был продлен на несколько месяцев. это решение принято грузией, считающей абхазию своей неотъемлемой частью, при полном согласии со стороны абхазии, считающей присутствие россии на территории республики единственным гарантом мира и стабильности в регионе. зона безопасности была тогда же, в августе, расширена до размеров всего гальского района абхазии. президент грузии эдуард шеварднадзе признал, что присутствие миротворцев в очаге конфликта поможет в дальнейшем избежать провокаций не только в абхазии, но и на всей территории страны. об этом позавчера писала gazeta ru. как видно, провокации не прекратились даже при наличии миротворцев.<unk>\n",
      "Ref:\t убит абхазский таможенник\n",
      "Hyp:\t три человека ранены при обстреле в гальском районе абхазии\n",
      "BLEU:     \t43.2\n",
      "ROUGE-1-F:\t30.3\n",
      "ROUGE-2-F:\t14.5\n",
      "ROUGE-L-F:\t27.1\n",
      "ROUGE-mean\t24.0\n"
     ]
    }
   ],
   "source": [
    "print_metrics(lenta_gold_mbart, lenta_cand_mbart, lenta_data_mbart)"
   ]
  },
  {
   "cell_type": "markdown",
   "metadata": {},
   "source": [
    "### BertSumAbs RIA"
   ]
  },
  {
   "cell_type": "code",
   "execution_count": 10,
   "metadata": {},
   "outputs": [],
   "source": [
    "with open('final_results/ria_bertsum.gold', 'r') as f:\n",
    "    ria_gold = f.readlines()\n",
    "    \n",
    "ria_gold = [el.strip().lower() for el in ria_gold]\n",
    "\n",
    "\n",
    "with open('final_results/ria_bertsum.cand', 'r') as f:\n",
    "    ria_cand = f.readlines()\n",
    "\n",
    "ria_cand = [el.strip().lower() for el in ria_cand]\n",
    "\n",
    "\n",
    "ria_data = pd.read_csv('final_results/ria_bertsum.raw_src', sep='\\n', names=['text'])\n",
    "ria_data = [str(el).replace(' ##', '').replace('[CLS]', '').replace('[SEP]', '') for el in ria_data.text.values]\n",
    "\n",
    "assert(len(ria_data) == len(ria_gold) and len(ria_gold) == len(ria_cand))"
   ]
  },
  {
   "cell_type": "code",
   "execution_count": 11,
   "metadata": {},
   "outputs": [
    {
     "name": "stdout",
     "output_type": "stream",
     "text": [
      "-------------METRICS-------------\n",
      "Count:\t 49253\n",
      "Text:\t  москва, 13 окт - риа новости. очередной день отборочных матчей чемпионата европы по футболу 2012 года запомнился, кроме победы сборной россии в скопье над македонцами (1:0), нулевой ничьей англичан с черногорцами в лондоне, сложной победой действующих чемпионов европы и мира испанцев в шотландии, а также отмена матча в генуе, где выяснить отношения итальянцам и сербам помешали фанатские выходки. группа с матч сборных италии и сербии не был сыгран из-за беспорядков, устроенных болельщиками команды гостей. они еще перед началом встречи жгли файеры, бросали предметы на поле и в сторону поклонников \"скуадры адзурры\". в результате футболистам, выйдя на газон, пришлось вернуться в раздевалки, пока стюарды пытались успокоить разгоряченных фанов. однако организаторам так и не удалось усмирить пылких сербов, и шотландский судья крэйг александер томпсон принял решение об отмене матча. сербские сми связывают агрессивное поведение болельщиков с фигурой основного голкипера сборной владимира стойковича, которому были адресованы угрозы со стороны сербских фанов. дело в том, что стойкович, бывший игрок \"црвены звезды\", собирается перейти в ряды \"партизана\" - непримиримого соперника \"црвены\". в \n",
      "Ref:\t евро-2012: нули на \"уэмбли\", трудная победа испании, срыв игры в генуе\n",
      "Hyp:\t день отбора че-2012: разгром россиян и \"партизан\" в генуе\n",
      "BLEU:     \t57.6\n",
      "ROUGE-1-F:\t46.0\n",
      "ROUGE-2-F:\t28.0\n",
      "ROUGE-L-F:\t43.1\n",
      "ROUGE-mean\t39.0\n"
     ]
    }
   ],
   "source": [
    "print_metrics(ria_gold, ria_cand, ria_data)"
   ]
  },
  {
   "cell_type": "markdown",
   "metadata": {},
   "source": [
    "### BertSumAbs Lenta"
   ]
  },
  {
   "cell_type": "code",
   "execution_count": 12,
   "metadata": {},
   "outputs": [],
   "source": [
    "with open('final_results/lenta_bertsum.gold', 'r') as f:\n",
    "    lenta_gold = f.readlines()\n",
    "    \n",
    "lenta_gold = [el.strip().lower() for el in lenta_gold]\n",
    "\n",
    "\n",
    "with open('final_results/lenta_bertsum.cand', 'r') as f:\n",
    "    lenta_cand = f.readlines()\n",
    "\n",
    "lenta_cand = [el.strip().lower() for el in lenta_cand]\n",
    "\n",
    "\n",
    "lenta_data = pd.read_csv('final_results/lenta_bertsum.raw_src', sep='\\n', names=['text'])\n",
    "lenta_data = [el.replace(' ##', '').replace('[CLS]', '').replace('[SEP]', '') for el in lenta_data.text.values]\n",
    "\n",
    "assert(len(lenta_data) == len(lenta_gold) and len(lenta_gold) == len(lenta_cand))"
   ]
  },
  {
   "cell_type": "code",
   "execution_count": 13,
   "metadata": {},
   "outputs": [
    {
     "name": "stdout",
     "output_type": "stream",
     "text": [
      "-------------METRICS-------------\n",
      "Count:\t 75925\n",
      "Text:\t  трагедия случилась 2 октября около 20.00 по местному времени в городе ингулец днепропетровской области \n",
      "Ref:\t лидера прогрессивной социалистической партии украины наталию витренко. как сообщает агентство \"\"интерфакс-украина\"\"\n",
      "Hyp:\t в городе ингулец на украине сгорел город\n",
      "BLEU:     \t45.1\n",
      "ROUGE-1-F:\t31.0\n",
      "ROUGE-2-F:\t14.9\n",
      "ROUGE-L-F:\t28.1\n",
      "ROUGE-mean\t24.7\n"
     ]
    }
   ],
   "source": [
    "print_metrics(lenta_gold, lenta_cand, lenta_data)"
   ]
  },
  {
   "cell_type": "code",
   "execution_count": 14,
   "metadata": {},
   "outputs": [
    {
     "name": "stdout",
     "output_type": "stream",
     "text": [
      "-------------METRICS-------------\n",
      "Count:\t 2392\n",
      "Text:\t  москва, 9 мая - риа новости. москвичи в четверг отпраздновали день победы. несмотря на отсутствие авиатехники, гости завороженно смотрели онлайн-трансляцию традиционного торжественного парада на красной площади на установленных медиаэкранах и пели военные песни, многие пришли на поклонную гору всей семьей, а на городских площадках гостей ожидала увлекательная программа. за ходом событий следила корреспондент риа новости. город основательно подготовился к празднованию 74-й годовщины великой отечественной войны. для горожан и гостей столицы были организованы свыше 20 площадок, где проходили различные мастер-классы, фотовыставки, трансляции патриотических фильмов, концерты и многое другое. также в течение всего дня в метро музыканты исполняли военные мотивы и читали стихи, вокруг площадок собирались пассажиры и подпевали. на площади возле храма христа спасителя перед зрителями с концертной программой выступали солисты театра \"новая опера\" и симфонический оркестр москвы \"русская филармония\". по словам участницы мероприятия алёны фроловой, погода их не очень радовала, но выступление на 9 мая уже стало небольшой традицией.   \"каждый год оркестр выступает с праздничной программой и радует москвичей. в этом году нам с погодой не очень повезло, но во время выступления оркестра выглянуло солнце. атмосфера здесь тёплая и очень дружелюбная\", - рассказала фролова агентству \n",
      "Ref:\t песни военных лет, выставки и \"бессмертный полк\": как в москве прошло 9 мая\n",
      "Hyp:\t день победы в москве: военные песни, песни и музыка\n",
      "BLEU:     \t54.2\n",
      "ROUGE-1-F:\t41.9\n",
      "ROUGE-2-F:\t22.5\n",
      "ROUGE-L-F:\t37.3\n",
      "ROUGE-mean\t33.9\n"
     ]
    }
   ],
   "source": [
    "with open('final_results/ria2020_bertsum.gold', 'r') as f:\n",
    "    ria2020_gold = f.readlines()\n",
    "    \n",
    "ria2020_gold = [el.strip().lower() for el in ria2020_gold]\n",
    "\n",
    "\n",
    "with open('final_results/ria2020_bertsum.cand', 'r') as f:\n",
    "    ria2020_cand = f.readlines()\n",
    "\n",
    "ria2020_cand = [el.strip().lower() for el in ria2020_cand]\n",
    "\n",
    "\n",
    "ria2020_data = pd.read_csv('final_results/ria2020_bertsum.raw_src', sep='\\n', names=['text'])\n",
    "ria2020_data = [el.replace(' ##', '').replace('[CLS]', '').replace('[SEP]', '') for el in ria2020_data.text.values]\n",
    "\n",
    "assert(len(ria2020_data) == len(ria2020_gold) and len(ria2020_gold) == len(ria2020_cand))\n",
    "\n",
    "g = [ria2020_gold[0]]\n",
    "c = [ria2020_cand[0]]\n",
    "d = [ria2020_data[0]]\n",
    "\n",
    "for i in range(1, len(ria2020_gold)):\n",
    "    if ria2020_cand[i] in c:\n",
    "        continue\n",
    "    c.append(ria2020_cand[i])\n",
    "    g.append(ria2020_gold[i])\n",
    "    d.append(ria2020_data[i])\n",
    "\n",
    "print_metrics(g, c, d)\n"
   ]
  },
  {
   "cell_type": "markdown",
   "metadata": {},
   "source": [
    "### Novel n-gram proportion"
   ]
  },
  {
   "cell_type": "code",
   "execution_count": 15,
   "metadata": {},
   "outputs": [
    {
     "name": "stdout",
     "output_type": "stream",
     "text": [
      "{1: [37070.0, 384331, 4367.698055102391], 2: [111898.0, 340050, 12687.64872073262], 3: [145242.0, 290384, 16141.013462805673]}\n",
      "{1: [137392.0, 382379, 15794.232288404612], 2: [240657.0, 338257, 26951.943775270574], 3: [247156.0, 288698, 27253.483631042836]}\n",
      "--------------------------------------------------------------------------------\n",
      "{1: 0.09645331758302089, 2: 0.32906337303337746, 3: 0.5001721857953606}\n",
      "{1: 0.35930843482513425, 2: 0.7114619948737203, 3: 0.8561056882971132}\n",
      "{1: [55618.0, 550940, 6687.465269480913], 2: [157906.0, 482900, 18585.575541911145], 3: [197855.0, 408504, 22877.921268694285]}\n",
      "{1: [215242.0, 492131, 28112.541087415146], 2: [325593.0, 420733, 41651.88285325401], 3: [310818.0, 345744, 38787.02271804609]}\n",
      "--------------------------------------------------------------------------------\n",
      "{1: 0.10095110175336697, 2: 0.3269952371091323, 3: 0.4843404226152008}\n",
      "{1: 0.4373672863526175, 2: 0.7738708397011882, 3: 0.8989830626128003}\n",
      "{1: [85698.0, 359891, 10358.94312113349], 2: [174242.0, 315560, 20711.855229750778], 3: [193824.0, 266411, 22699.86043590753]}\n",
      "{1: [142363.0, 381536, 16213.56444688818], 2: [242558.0, 337906, 27091.801233123275], 3: [247720.0, 288687, 27313.212420703967]}\n",
      "--------------------------------------------------------------------------------\n",
      "{1: 0.23812209807969636, 2: 0.552167575104576, 3: 0.7275375266036312}\n",
      "{1: 0.3731312379434706, 2: 0.7178268512544909, 3: 0.8580919819735562}\n",
      "{1: [141929.0, 529887, 17979.503203047043], 2: [264931.0, 460134, 32859.60632865719], 3: [284726.0, 384481, 34717.16218477293]}\n",
      "{1: [220209.0, 492130, 28752.591137062776], 2: [327395.0, 420732, 41876.63470438211], 3: [311253.0, 345743, 38838.29050098844]}\n",
      "--------------------------------------------------------------------------------\n",
      "{1: 0.2678476731831504, 2: 0.5757692324409845, 3: 0.7405463468936047}\n",
      "{1: 0.4474610367179404, 2: 0.7781556905583602, 3: 0.9002438227238151}\n"
     ]
    }
   ],
   "source": [
    "ria_cand_nov_m, ria_gold_nov_m = cal_repeat(ria_cand_mbart, ria_gold_mbart, ria_text_mbart)\n",
    "\n",
    "lenta_cand_nov_m, lenta_gold_nov_m = cal_repeat(lenta_cand_mbart, lenta_gold_mbart, lenta_data_mbart)\n",
    "\n",
    "ria_cand_nov, ria_gold_nov = cal_repeat(ria_cand, ria_gold, ria_data)\n",
    "\n",
    "lenta_cand_nov, lenta_gold_nov = cal_repeat(lenta_cand, lenta_gold, lenta_data)"
   ]
  },
  {
   "cell_type": "code",
   "execution_count": 17,
   "metadata": {},
   "outputs": [
    {
     "data": {
      "image/png": "[encoded data removed]",
      "text/plain": [
       "<Figure size 864x288 with 2 Axes>"
      ]
     },
     "metadata": {
      "needs_background": "light"
     },
     "output_type": "display_data"
    }
   ],
   "source": [
    "fig, ax = plt.subplots(1,2)\n",
    "fig.set_figheight(4)\n",
    "fig.set_figwidth(12)\n",
    "fig.subplots_adjust(wspace=0.15)\n",
    "\n",
    "\n",
    "\n",
    "ind = np.arange(3)    # the x locations for the groups\n",
    "width = 0.25         # the width of the bars\n",
    "\n",
    "p0 = ax[0].bar(ind - width, ria_cand_nov_m.values(), width, color='papayawhip')\n",
    "p1 = ax[0].bar(ind, ria_cand_nov.values(), width, color='lightgray')\n",
    "p2 = ax[0].bar(ind + width, ria_gold_nov.values(), width, color='lavender')\n",
    "\n",
    "\n",
    "ax[0].set_xticks(ind + width / 2)\n",
    "ax[0].set_xticklabels(('1-grams', '2-grams', '3-grams'))\n",
    "ax[0].yaxis.set_ticks(np.arange(0, 1, 0.1))\n",
    "\n",
    "    \n",
    "ax[0].set_ylabel('Proportion of novel n-grams')\n",
    "ax[0].legend((p0[0], p1[0], p2[0]), ('mBART', 'BertSumAbs', 'Reference'))\n",
    "ax[0].set_title('(a) RIA dataset', y=-0.22)\n",
    "\n",
    "\n",
    "###########################################################################################\n",
    "\n",
    "p3 = ax[1].bar(ind - width, lenta_cand_nov_m.values(), width, color='papayawhip')\n",
    "p4 = ax[1].bar(ind, lenta_cand_nov.values(), width, color='lightgray')\n",
    "p5 = ax[1].bar(ind + width, lenta_gold_nov.values(), width, color='lavender')\n",
    "\n",
    "ax[1].set_xticks(ind + width / 2)\n",
    "ax[1].set_xticklabels(('1-grams', '2-grams', '3-grams'))\n",
    "ax[1].yaxis.set_ticks(np.arange(0, 1, 0.1))\n",
    "\n",
    "    \n",
    "ax[1].legend((p3[0], p4[0], p5[0]), ('mBART', 'BertSumAbs', 'Reference'))\n",
    "ax[1].set_title('(b) Lenta dataset', y=-0.22)\n",
    "\n",
    "\n",
    "plt.draw()\n",
    "fig.savefig('novel_ngrams.eps', bbox_inches='tight', format='eps')"
   ]
  },
  {
   "cell_type": "markdown",
   "metadata": {},
   "source": [
    "### First Sentence Baseline"
   ]
  },
  {
   "cell_type": "code",
   "execution_count": 18,
   "metadata": {},
   "outputs": [],
   "source": [
    "lenta_fs_cand = []\n",
    "for el in lenta_data:\n",
    "    try:\n",
    "        lenta_fs_cand.append(el.split('.')[0].strip())\n",
    "    except Exception:\n",
    "        lenta_fs_cand.append(el)\n",
    "    if not lenta_fs_cand[-1]:\n",
    "        lenta_fs_cand[-1] = el"
   ]
  },
  {
   "cell_type": "code",
   "execution_count": 19,
   "metadata": {},
   "outputs": [
    {
     "name": "stdout",
     "output_type": "stream",
     "text": [
      "-------------METRICS-------------\n",
      "Count:\t 75925\n",
      "Text:\t  трагедия случилась 2 октября около 20.00 по местному времени в городе ингулец днепропетровской области \n",
      "Ref:\t лидера прогрессивной социалистической партии украины наталию витренко. как сообщает агентство \"\"интерфакс-украина\"\"\n",
      "Hyp:\t трагедия случилась 2 октября около 20\n",
      "BLEU:     \t24.9\n",
      "ROUGE-1-F:\t24.0\n",
      "ROUGE-2-F:\t10.6\n",
      "ROUGE-L-F:\t18.3\n",
      "ROUGE-mean\t17.6\n"
     ]
    }
   ],
   "source": [
    "print_metrics(lenta_gold, lenta_fs_cand, lenta_data)"
   ]
  },
  {
   "cell_type": "code",
   "execution_count": 20,
   "metadata": {},
   "outputs": [],
   "source": [
    "ria_fs_cand = []\n",
    "for el in ria_data:\n",
    "    try:\n",
    "        ria_fs_cand.append(el.split('.')[1].strip())\n",
    "    except Exception:\n",
    "        ria_fs_cand.append(el)\n",
    "    if not ria_fs_cand[-1]:\n",
    "        ria_fs_cand[-1] = el"
   ]
  },
  {
   "cell_type": "code",
   "execution_count": 21,
   "metadata": {},
   "outputs": [
    {
     "name": "stdout",
     "output_type": "stream",
     "text": [
      "-------------METRICS-------------\n",
      "Count:\t 49253\n",
      "Text:\t  москва, 13 окт - риа новости. очередной день отборочных матчей чемпионата европы по футболу 2012 года запомнился, кроме победы сборной россии в скопье над македонцами (1:0), нулевой ничьей англичан с черногорцами в лондоне, сложной победой действующих чемпионов европы и мира испанцев в шотландии, а также отмена матча в генуе, где выяснить отношения итальянцам и сербам помешали фанатские выходки. группа с матч сборных италии и сербии не был сыгран из-за беспорядков, устроенных болельщиками команды гостей. они еще перед началом встречи жгли файеры, бросали предметы на поле и в сторону поклонников \"скуадры адзурры\". в результате футболистам, выйдя на газон, пришлось вернуться в раздевалки, пока стюарды пытались успокоить разгоряченных фанов. однако организаторам так и не удалось усмирить пылких сербов, и шотландский судья крэйг александер томпсон принял решение об отмене матча. сербские сми связывают агрессивное поведение болельщиков с фигурой основного голкипера сборной владимира стойковича, которому были адресованы угрозы со стороны сербских фанов. дело в том, что стойкович, бывший игрок \"црвены звезды\", собирается перейти в ряды \"партизана\" - непримиримого соперника \"црвены\". в \n",
      "Ref:\t евро-2012: нули на \"уэмбли\", трудная победа испании, срыв игры в генуе\n",
      "Hyp:\t очередной день отборочных матчей чемпионата европы по футболу 2012 года запомнился, кроме победы сборной россии в скопье над македонцами (1:0), нулевой ничьей англичан с черногорцами в лондоне, сложной победой действующих чемпионов европы и мира испанцев в шотландии, а также отмена матча в генуе, где выяснить отношения итальянцам и сербам помешали фанатские выходки\n",
      "BLEU:     \t21.8\n",
      "ROUGE-1-F:\t23.8\n",
      "ROUGE-2-F:\t10.5\n",
      "ROUGE-L-F:\t16.6\n",
      "ROUGE-mean\t16.9\n"
     ]
    }
   ],
   "source": [
    "print_metrics(ria_gold, ria_fs_cand, ria_data)"
   ]
  },
  {
   "cell_type": "markdown",
   "metadata": {},
   "source": [
    "### LOGS"
   ]
  },
  {
   "cell_type": "code",
   "execution_count": 22,
   "metadata": {},
   "outputs": [],
   "source": [
    "with open('logs/abs_bert_ria') as f:\n",
    "    data = f.readlines()"
   ]
  },
  {
   "cell_type": "code",
   "execution_count": 24,
   "metadata": {},
   "outputs": [],
   "source": [
    "train_scores = []\n",
    "val_scores = []\n",
    "\n",
    "prev_train = None\n",
    "for j, el in enumerate(data):\n",
    "    if 'INFO] Step ' in el:\n",
    "        assert not prev_train\n",
    "        \n",
    "        step_start = el.find('INFO] Step ') + 11\n",
    "        step_end = el.find('/200000; acc:')\n",
    "        step_num = int(el[step_start:step_end])\n",
    "        \n",
    "        acc_start = el.find('/200000; acc:  ') + 15\n",
    "        acc_end = el.find('; ppl:')\n",
    "        acc = float(el[acc_start:acc_end])\n",
    "        \n",
    "        xent_start = el.find('; xent: ') + 8\n",
    "        xent_end = el.find('; lr: 0.00')\n",
    "        xent = float(el[xent_start:xent_end])\n",
    "        \n",
    "        train_scores.append((step_num, acc, xent))\n",
    "        prev_train = True\n",
    "        \n",
    "    if  ' INFO] Validation accuracy: ' in el and prev_train is True:\n",
    "        acc = float(el[el.find('accuracy: ') + 10:-2])\n",
    "        xent =  float(data[j+1][data[j+1].find(' xent:') + 6:-2])\n",
    "        val_scores.append((acc, xent))\n",
    "        \n",
    "        prev_train = False\n",
    "        "
   ]
  },
  {
   "cell_type": "code",
   "execution_count": 25,
   "metadata": {},
   "outputs": [],
   "source": [
    "steps = [el[0] for el in train_scores]"
   ]
  },
  {
   "cell_type": "code",
   "execution_count": 26,
   "metadata": {},
   "outputs": [],
   "source": [
    "train_scores = train_scores[:steps.index(5200)] + train_scores[steps.index(6800) + 1:]\n",
    "val_scores = val_scores[:steps.index(5200)] + val_scores[steps.index(6800) + 1:]\n",
    "steps = steps[:steps.index(5200)] + steps[steps.index(6800) + 1:]"
   ]
  },
  {
   "cell_type": "code",
   "execution_count": 27,
   "metadata": {},
   "outputs": [],
   "source": [
    "import seaborn as sns\n",
    "sns.set()"
   ]
  },
  {
   "cell_type": "code",
   "execution_count": 28,
   "metadata": {},
   "outputs": [
    {
     "data": {
      "image/png": "[encoded data removed]",
      "text/plain": [
       "<Figure size 432x288 with 1 Axes>"
      ]
     },
     "metadata": {},
     "output_type": "display_data"
    }
   ],
   "source": [
    "plt.plot(steps, np.array([el[1] for el in train_scores]), label='Train', color='midnightblue')\n",
    "plt.plot(steps, np.array([el[0] for el in val_scores]), label='Val', color='grey')\n",
    "plt.title('Accuracy')\n",
    "plt.legend()\n",
    "plt.show()"
   ]
  },
  {
   "cell_type": "code",
   "execution_count": 29,
   "metadata": {},
   "outputs": [
    {
     "data": {
      "image/png": "[encoded data removed]",
      "text/plain": [
       "<Figure size 432x288 with 1 Axes>"
      ]
     },
     "metadata": {},
     "output_type": "display_data"
    }
   ],
   "source": [
    "plt.plot(np.array(steps) / 1000, np.array([el[2] for el in train_scores]), label='Train', color='midnightblue')\n",
    "plt.plot(np.array(steps) / 1000, np.array([el[1] for el in val_scores]), label='Validation', color='grey')\n",
    "plt.xlabel('Steps, thousand')\n",
    "plt.ylabel('Loss')\n",
    "plt.legend()\n",
    "plt.draw()\n",
    "plt.savefig('train.eps', bbox_inches='tight', format='eps')"
   ]
  },
  {
   "cell_type": "code",
   "execution_count": null,
   "metadata": {},
   "outputs": [],
   "source": []
  }
 ],
 "metadata": {
  "kernelspec": {
   "display_name": "Python 3",
   "language": "python",
   "name": "python3"
  },
  "language_info": {
   "codemirror_mode": {
    "name": "ipython",
    "version": 3
   },
   "file_extension": ".py",
   "mimetype": "text/x-python",
   "name": "python",
   "nbconvert_exporter": "python",
   "pygments_lexer": "ipython3",
   "version": "3.7.5"
  }
 },
 "nbformat": 4,
 "nbformat_minor": 2
}
